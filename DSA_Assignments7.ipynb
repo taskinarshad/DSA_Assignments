{
 "cells": [
  {
   "cell_type": "markdown",
   "id": "d2f9626d",
   "metadata": {},
   "source": [
    "Question 1\n",
    "Given two strings s and t, determine if they are isomorphic.\n",
    "\n",
    "Two strings s and t are isomorphic if the characters in s can be replaced to get t.\n",
    "\n",
    "All occurrences of a character must be replaced with another character while preserving the order of characters. No two characters may map to the same character, but a character may map to itself.\n",
    "\n",
    "Example 1:\n",
    "\n",
    "Input: s = \"egg\", t = \"add\"\n",
    "\n",
    "Output: true"
   ]
  },
  {
   "cell_type": "code",
   "execution_count": 67,
   "id": "98ca402d",
   "metadata": {},
   "outputs": [],
   "source": [
    "class Solution1:\n",
    "    def isIsomorphic(self, s: str, t: str) -> bool:\n",
    "        s2t = {}\n",
    "        t2s = {}\n",
    "\n",
    "        for i,j in zip(s,t):\n",
    "            if i not in s2t and j not in t2s:\n",
    "                s2t[i]=j\n",
    "                t2s[j]=i\n",
    "            elif s2t.get(i) != j or t2s.get(j) != i:\n",
    "                return False\n",
    "        return True"
   ]
  },
  {
   "cell_type": "code",
   "execution_count": 68,
   "id": "03b77d13",
   "metadata": {},
   "outputs": [
    {
     "data": {
      "text/plain": [
       "True"
      ]
     },
     "execution_count": 68,
     "metadata": {},
     "output_type": "execute_result"
    }
   ],
   "source": [
    "Solution1().isIsomorphic(\"egg\",\"stt\")"
   ]
  },
  {
   "cell_type": "markdown",
   "id": "e1aa13cf",
   "metadata": {},
   "source": [
    "💡 Question 2\n",
    "Given a string num which represents an integer, return true if num is a strobogrammatic number**.\n",
    "\n",
    "A strobogrammatic number is a number that looks the same when rotated 180 degrees (looked at upside down).\n",
    "\n",
    "Example 1:\n",
    "\n",
    "Input: num = \"69\"\n",
    "\n",
    "Output:\n",
    "\n",
    "true"
   ]
  },
  {
   "cell_type": "code",
   "execution_count": 69,
   "id": "237baa93",
   "metadata": {},
   "outputs": [],
   "source": [
    "class Solution2:\n",
    "    def isStrobogrammatic(self, num: str) -> bool:\n",
    "        strobo_pairs = [('0', '0'), ('1', '1'), ('6', '9'), ('8', '8'), ('9', '6')]\n",
    "        left, right = 0, len(num) - 1\n",
    "\n",
    "        while left <= right:\n",
    "            pair = (num[left], num[right])\n",
    "            if pair not in strobo_pairs:\n",
    "                return False\n",
    "            left += 1\n",
    "            right -= 1\n",
    "\n",
    "        return True"
   ]
  },
  {
   "cell_type": "code",
   "execution_count": 70,
   "id": "f4d91c6c",
   "metadata": {},
   "outputs": [
    {
     "data": {
      "text/plain": [
       "True"
      ]
     },
     "execution_count": 70,
     "metadata": {},
     "output_type": "execute_result"
    }
   ],
   "source": [
    "Solution2().isStrobogrammatic(\"69\")"
   ]
  },
  {
   "cell_type": "markdown",
   "id": "0a30bbbc",
   "metadata": {},
   "source": [
    "💡 Question 3\n",
    "Given two non-negative integers, num1 and num2 represented as string, return the sum of num1 and num2 as a string.\n",
    "\n",
    "You must solve the problem without using any built-in library for handling large integers (such as BigInteger). You must also not convert the inputs to integers directly.\n",
    "\n",
    "Example 1:\n",
    "\n",
    "Input: num1 = \"11\", num2 = \"123\"\n",
    "\n",
    "Output:\n",
    "\n",
    "\"134\""
   ]
  },
  {
   "cell_type": "code",
   "execution_count": 71,
   "id": "84b45052",
   "metadata": {},
   "outputs": [],
   "source": [
    "class Solution3:\n",
    "    def addStrings(self, num1: str, num2: str) -> str:\n",
    "        nums = {\"0\":0, \"1\":1, \"2\":2, \"3\":3, \"4\":4, \"5\":5, \"6\":6, \"7\":7, \"8\":8, \"9\":9}\n",
    "\n",
    "        if len(num1) < len(num2):\n",
    "            num1 = \"0\"*(len(num2)-len(num1)) + num1\n",
    "        elif len(num2) < len(num1):\n",
    "            num2 = \"0\"*(len(num1)-len(num2)) + num2\n",
    "\n",
    "        i, summ = 0, 0\n",
    "        n = len(num1)\n",
    "\n",
    "        for d1, d2 in zip(num1, num2):\n",
    "            summ += (nums.get(d1) + nums.get(d2))*(10**(n-i-1))\n",
    "            i += 1\n",
    "        return str(summ)"
   ]
  },
  {
   "cell_type": "code",
   "execution_count": 72,
   "id": "7f1ad71e",
   "metadata": {},
   "outputs": [
    {
     "data": {
      "text/plain": [
       "'134'"
      ]
     },
     "execution_count": 72,
     "metadata": {},
     "output_type": "execute_result"
    }
   ],
   "source": [
    "Solution3().addStrings(num1 = \"11\", num2 = \"123\")"
   ]
  },
  {
   "cell_type": "markdown",
   "id": "2ac000a8",
   "metadata": {},
   "source": [
    "💡 Question 4\n",
    "Given a string s, reverse the order of characters in each word within a sentence while still preserving whitespace and initial word order.\n",
    "\n",
    "Example 1:\n",
    "\n",
    "Input: s = \"Let's take LeetCode contest\"\n",
    "\n",
    "Output: \"s'teL ekat edoCteeL tsetnoc\""
   ]
  },
  {
   "cell_type": "code",
   "execution_count": 73,
   "id": "78bba34c",
   "metadata": {},
   "outputs": [],
   "source": [
    "class Solution4:\n",
    "    def reverseWords(self, s: str) -> str:\n",
    "        words = []\n",
    "        for w in s.split():\n",
    "            words.append(w[::-1])\n",
    "        \n",
    "        return \" \".join(words)"
   ]
  },
  {
   "cell_type": "code",
   "execution_count": 74,
   "id": "dc6bffd0",
   "metadata": {},
   "outputs": [
    {
     "data": {
      "text/plain": [
       "\"s'teL ekat edoCteeL tsetnoc\""
      ]
     },
     "execution_count": 74,
     "metadata": {},
     "output_type": "execute_result"
    }
   ],
   "source": [
    "Solution4().reverseWords(s = \"Let's take LeetCode contest\")"
   ]
  },
  {
   "cell_type": "markdown",
   "id": "98857812",
   "metadata": {},
   "source": [
    "💡 Question 5\n",
    "Given a string s and an integer k, reverse the first k characters for every 2k characters counting from the start of the string.\n",
    "\n",
    "If there are fewer than k characters left, reverse all of them. If there are less than 2k but greater than or equal to k characters, then reverse the first k characters and leave the other as original.\n",
    "\n",
    "Example 1:\n",
    "\n",
    "Input: s = \"abcdefg\", k = 2\n",
    "\n",
    "Output:\n",
    "\n",
    "\"bacdfeg\""
   ]
  },
  {
   "cell_type": "code",
   "execution_count": 75,
   "id": "d2ea9297",
   "metadata": {},
   "outputs": [],
   "source": [
    "class Solution5:\n",
    "    def reverseStr(self, s: str, k: int) -> str:\n",
    "        i, j = 0, k\n",
    "\n",
    "        while i < len(s):\n",
    "            s = s[:i] + s[i:j][::-1] + s[j:]\n",
    "            i+=2*k\n",
    "            j+=2*k\n",
    "        \n",
    "        return s"
   ]
  },
  {
   "cell_type": "code",
   "execution_count": 76,
   "id": "e0d5d427",
   "metadata": {},
   "outputs": [
    {
     "data": {
      "text/plain": [
       "'bacdfeg'"
      ]
     },
     "execution_count": 76,
     "metadata": {},
     "output_type": "execute_result"
    }
   ],
   "source": [
    "Solution5().reverseStr(s = \"abcdefg\", k = 2)"
   ]
  },
  {
   "cell_type": "markdown",
   "id": "186803c0",
   "metadata": {},
   "source": [
    "💡 Question 6\n",
    "Given two strings s and goal, return true if and only if s can become goal after some number of shifts* on* s.\n",
    "\n",
    "A shift on s consists of moving the leftmost character of s to the rightmost position.\n",
    "\n",
    "For example, if s = \"abcde\", then it will be \"bcdea\" after one shift.\n",
    "Example 1:\n",
    "\n",
    "Input: s = \"abcde\", goal = \"cdeab\"\n",
    "\n",
    "Output:\n",
    "\n",
    "true"
   ]
  },
  {
   "cell_type": "code",
   "execution_count": 77,
   "id": "3d05d8f6",
   "metadata": {},
   "outputs": [],
   "source": [
    "class Solution6:\n",
    "    def rotateString(self, s: str, goal: str) -> bool:\n",
    "        \n",
    "        return len(s) == len(goal) and goal in s+s"
   ]
  },
  {
   "cell_type": "code",
   "execution_count": 78,
   "id": "bf3cb973",
   "metadata": {},
   "outputs": [
    {
     "data": {
      "text/plain": [
       "True"
      ]
     },
     "execution_count": 78,
     "metadata": {},
     "output_type": "execute_result"
    }
   ],
   "source": [
    "Solution6().rotateString(s = \"abcde\", goal = \"cdeab\")"
   ]
  },
  {
   "cell_type": "markdown",
   "id": "28671346",
   "metadata": {},
   "source": [
    "💡 Question 7\n",
    "Given two strings s and t, return true if they are equal when both are typed into empty text editors. '#' means a backspace character.\n",
    "\n",
    "Note that after backspacing an empty text, the text will continue empty.\n",
    "\n",
    "Example 1:\n",
    "\n",
    "Input: s = \"ab#c\", t = \"ad#c\"\n",
    "\n",
    "Output: true\n",
    "\n",
    "Explanation:\n",
    "\n",
    "Both s and t become \"ac\"."
   ]
  },
  {
   "cell_type": "code",
   "execution_count": 79,
   "id": "29914801",
   "metadata": {},
   "outputs": [],
   "source": [
    "class Solution7:\n",
    "    def backspaceCompare(self, s: str, t: str) -> bool:\n",
    "        i = s.find('#')\n",
    "        while i != -1:\n",
    "            s = s[i+1:] if i == 0 else s[:i-1] + s[i+1:]\n",
    "            i = s.find('#')\n",
    "\n",
    "        i = t.find('#')\n",
    "        while i != -1:\n",
    "            t = t[i+1:] if i == 0 else t[:i-1] + t[i+1:]\n",
    "            i = t.find('#')\n",
    "\n",
    "        return s == t"
   ]
  },
  {
   "cell_type": "code",
   "execution_count": 80,
   "id": "1da7fda3",
   "metadata": {},
   "outputs": [
    {
     "data": {
      "text/plain": [
       "True"
      ]
     },
     "execution_count": 80,
     "metadata": {},
     "output_type": "execute_result"
    }
   ],
   "source": [
    "Solution7().backspaceCompare(s = \"ab#c\", t = \"ad#c\")"
   ]
  },
  {
   "cell_type": "markdown",
   "id": "a89e8b59",
   "metadata": {},
   "source": [
    "💡 Question 8\n",
    "You are given an array coordinates, coordinates[i] = [x, y], where [x, y] represents the coordinate of a point. Check if these points make a straight line in the XY plane.\n",
    "\n",
    "Example 1:\n",
    "\n",
    "Input: coordinates = [[1,2],[2,3],[3,4],[4,5],[5,6],[6,7]]\n",
    "\n",
    "Output: true"
   ]
  },
  {
   "cell_type": "code",
   "execution_count": 81,
   "id": "e0d8eccf",
   "metadata": {},
   "outputs": [],
   "source": [
    "from typing import List\n",
    "\n",
    "\n",
    "class Solution8:\n",
    "    def checkStraightLine(self, coordinates: List[List[int]]) -> bool:\n",
    "        x1=coordinates[0][0]\n",
    "        y1=coordinates[0][1]\n",
    "        x2=coordinates[1][0]\n",
    "        y2=coordinates[1][1]\n",
    "\n",
    "        for (x,y) in coordinates[2:]:\n",
    "            if (y-y1)*(x2-x1) != (x-x1)*(y2-y1):\n",
    "                return False\n",
    "        return True"
   ]
  },
  {
   "cell_type": "code",
   "execution_count": 82,
   "id": "f8eab89e",
   "metadata": {},
   "outputs": [
    {
     "data": {
      "text/plain": [
       "True"
      ]
     },
     "execution_count": 82,
     "metadata": {},
     "output_type": "execute_result"
    }
   ],
   "source": [
    "Solution8().checkStraightLine(coordinates = [[1,2],[2,3],[3,4],[4,5],[5,6],[6,7]])"
   ]
  },
  {
   "cell_type": "code",
   "execution_count": null,
   "id": "0121e344",
   "metadata": {},
   "outputs": [],
   "source": []
  }
 ],
 "metadata": {
  "kernelspec": {
   "display_name": "Python 3 (ipykernel)",
   "language": "python",
   "name": "python3"
  },
  "language_info": {
   "codemirror_mode": {
    "name": "ipython",
    "version": 3
   },
   "file_extension": ".py",
   "mimetype": "text/x-python",
   "name": "python",
   "nbconvert_exporter": "python",
   "pygments_lexer": "ipython3",
   "version": "3.9.7"
  }
 },
 "nbformat": 4,
 "nbformat_minor": 5
}
