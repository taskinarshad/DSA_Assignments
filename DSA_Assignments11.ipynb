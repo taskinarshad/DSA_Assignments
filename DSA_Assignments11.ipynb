{
 "cells": [
  {
   "cell_type": "markdown",
   "id": "121d90d4",
   "metadata": {},
   "source": [
    "💡 Question 1\n",
    "Given a non-negative integer x, return the square root of x rounded down to the nearest integer. The returned integer should be non-negative as well.\n",
    "\n",
    "You must not use any built-in exponent function or operator.\n",
    "\n",
    "For example, do not use pow(x, 0.5) in c++ or x ** 0.5 in python.\n",
    "Example 1:\n",
    "\n",
    "Input: x = 4\n",
    "Output: 2\n",
    "Explanation: The square root of 4 is 2, so we return 2.\n",
    "\n",
    "Example 2:"
   ]
  },
  {
   "cell_type": "code",
   "execution_count": 136,
   "id": "8fbeea17",
   "metadata": {},
   "outputs": [],
   "source": [
    "class Solution1:\n",
    "    def mySqrt(self, x:int)-> int:\n",
    "        if x==0: return 0\n",
    "        left, right = 1, x\n",
    "        while left <= right:\n",
    "            mid = left + (right - left) // 2\n",
    "            if mid * mid == x:\n",
    "                return mid\n",
    "            elif mid * mid < x:\n",
    "                left = mid + 1\n",
    "            else:\n",
    "                right = mid - 1\n",
    "\n",
    "        return right"
   ]
  },
  {
   "cell_type": "code",
   "execution_count": 137,
   "id": "ca50d7dc",
   "metadata": {},
   "outputs": [
    {
     "data": {
      "text/plain": [
       "4"
      ]
     },
     "execution_count": 137,
     "metadata": {},
     "output_type": "execute_result"
    }
   ],
   "source": [
    "Solution1().mySqrt(18)"
   ]
  },
  {
   "cell_type": "markdown",
   "id": "9d129791",
   "metadata": {},
   "source": [
    "💡 Question 2\n",
    "A peak element is an element that is strictly greater than its neighbors.\n",
    "\n",
    "Given a 0-indexed integer array nums, find a peak element, and return its index. If the array contains multiple peaks, return the index to any of the peaks.\n",
    "\n",
    "You may imagine that nums[-1] = nums[n] = -∞. In other words, an element is always considered to be strictly greater than a neighbor that is outside the array.\n",
    "\n",
    "You must write an algorithm that runs in O(log n) time.\n",
    "\n",
    "Example 1:\n",
    "\n",
    "Input: nums = [1,2,3,1]\n",
    "Output: 2\n",
    "Explanation: 3 is a peak element and your function should return the index number 2.\n",
    "Example 2:"
   ]
  },
  {
   "cell_type": "code",
   "execution_count": 138,
   "id": "2aaa0e16",
   "metadata": {},
   "outputs": [],
   "source": [
    "from typing import List\n",
    "\n",
    "\n",
    "class Solution2:\n",
    "    def findPeakElement(self, nums: List[int]) -> int:\n",
    "        return nums.index(max(nums))"
   ]
  },
  {
   "cell_type": "code",
   "execution_count": 139,
   "id": "bf762711",
   "metadata": {},
   "outputs": [
    {
     "data": {
      "text/plain": [
       "5"
      ]
     },
     "execution_count": 139,
     "metadata": {},
     "output_type": "execute_result"
    }
   ],
   "source": [
    "Solution2().findPeakElement([1,2,1,3,5,6,4])"
   ]
  },
  {
   "cell_type": "markdown",
   "id": "1e2673ad",
   "metadata": {},
   "source": [
    "💡 Question 3\n",
    "Given an array nums containing n distinct numbers in the range [0, n], return the only number in the range that is missing from the array.\n",
    "\n",
    "Example 1:\n",
    "\n",
    "Input: nums = [3,0,1]\n",
    "Output: 2\n",
    "Explanation: n = 3 since there are 3 numbers, so all numbers are in the range [0,3]. 2 is the missing number in the range since it does not appear in nums.\n",
    "\n",
    "Example 2:\n",
    "\n",
    "Input: nums = [0,1]\n",
    "Output: 2\n",
    "Explanation: n = 2 since there are 2 numbers, so all numbers are in the range [0,2]. 2 is the missing number in the range since it does not appear in nums.\n",
    "\n",
    "Example 3:\n",
    "\n",
    "Input: nums = [9,6,4,2,3,5,7,0,1]\n",
    "Output: 8\n",
    "Explanation: n = 9 since there are 9 numbers, so all numbers are in the range [0,9]. 8 is the missing number in the range since it does not appear in nums."
   ]
  },
  {
   "cell_type": "code",
   "execution_count": 140,
   "id": "9e208330",
   "metadata": {},
   "outputs": [],
   "source": [
    "class Solution3:\n",
    "    def missingNumber(self, nums: List[int]) -> int:\n",
    "        numSet = set(nums)\n",
    " \n",
    "        expectedNumCount = len(nums) + 1\n",
    "        for number in range(expectedNumCount):\n",
    "            if number not in numSet:\n",
    "                return number\n",
    " \n",
    "        return -1"
   ]
  },
  {
   "cell_type": "code",
   "execution_count": 141,
   "id": "9474f9bb",
   "metadata": {},
   "outputs": [
    {
     "data": {
      "text/plain": [
       "8"
      ]
     },
     "execution_count": 141,
     "metadata": {},
     "output_type": "execute_result"
    }
   ],
   "source": [
    "Solution3().missingNumber([9,6,4,2,3,5,7,0,1])"
   ]
  },
  {
   "cell_type": "markdown",
   "id": "f547b8f7",
   "metadata": {},
   "source": [
    "💡 Question 4\n",
    "Given an array of integers nums containing n + 1 integers where each integer is in the range [1, n] inclusive.\n",
    "\n",
    "There is only one repeated number in nums, return this repeated number.\n",
    "\n",
    "You must solve the problem without modifying the array nums and uses only constant extra space.\n",
    "\n",
    "Example 1:\n",
    "\n",
    "Input: nums = [1,3,4,2,2]\n",
    "Output: 2\n",
    "\n",
    "Example 2:\n",
    "\n",
    "Input: nums = [3,1,3,4,2]\n",
    "Output: 3"
   ]
  },
  {
   "cell_type": "code",
   "execution_count": 142,
   "id": "dffc91c9",
   "metadata": {},
   "outputs": [],
   "source": [
    "class Solution4:\n",
    "    def findDuplicate(self, nums: List[int]) -> int:\n",
    "        found = set()\n",
    "\n",
    "        for num in nums:\n",
    "            if num in found:\n",
    "                return num\n",
    "            else:\n",
    "                found.add(num)"
   ]
  },
  {
   "cell_type": "code",
   "execution_count": 143,
   "id": "ba8bf16e",
   "metadata": {},
   "outputs": [
    {
     "data": {
      "text/plain": [
       "2"
      ]
     },
     "execution_count": 143,
     "metadata": {},
     "output_type": "execute_result"
    }
   ],
   "source": [
    "Solution4().findDuplicate([1,3,4,2,2])"
   ]
  },
  {
   "cell_type": "markdown",
   "id": "5bc129d3",
   "metadata": {},
   "source": [
    "💡 Question 5\n",
    "Given two integer arrays nums1 and nums2, return an array of their intersection. Each element in the result must be unique and you may return the result in any order.\n",
    "\n",
    "Example 1:\n",
    "\n",
    "Input: nums1 = [1,2,2,1], nums2 = [2,2]\n",
    "Output: [2]\n",
    "\n",
    "Example 2:\n",
    "\n",
    "Input: nums1 = [4,9,5], nums2 = [9,4,9,8,4]\n",
    "Output: [9,4]\n",
    "Explanation: [4,9] is also accepted."
   ]
  },
  {
   "cell_type": "code",
   "execution_count": 144,
   "id": "980d7220",
   "metadata": {},
   "outputs": [],
   "source": [
    "class Solution5:\n",
    "    def intersection(self, nums1: List[int], nums2: List[int]) -> List[int]:\n",
    "        return list(set(nums1).intersection(set(nums2)))"
   ]
  },
  {
   "cell_type": "code",
   "execution_count": 145,
   "id": "7abfef9d",
   "metadata": {},
   "outputs": [
    {
     "data": {
      "text/plain": [
       "[9, 4]"
      ]
     },
     "execution_count": 145,
     "metadata": {},
     "output_type": "execute_result"
    }
   ],
   "source": [
    "nums1 = [4,9,5]\n",
    "nums2 = [9,4,9,8,4]\n",
    "\n",
    "Solution5().intersection(nums1,nums2)"
   ]
  },
  {
   "cell_type": "markdown",
   "id": "ffea96ef",
   "metadata": {},
   "source": [
    "< 💡 Question 6\n",
    "Suppose an array of length n sorted in ascending order is rotated between 1 and n times. For example, the array nums = [0,1,2,4,5,6,7] might become:\n",
    "\n",
    "[4,5,6,7,0,1,2] if it was rotated 4 times.\n",
    "[0,1,2,4,5,6,7] if it was rotated 7 times.\n",
    "Notice that rotating an array [a[0], a[1], a[2], ..., a[n-1]] 1 time results in the array [a[n-1], a[0], a[1], a[2], ..., a[n-2]].\n",
    "\n",
    "Given the sorted rotated array nums of unique elements, return the minimum element of this array.\n",
    "\n",
    "You must write an algorithm that runs in O(log n) time.\n",
    "\n",
    "Example 1:\n",
    "\n",
    "Input: nums = [3,4,5,1,2]\n",
    "Output: 1\n",
    "Explanation: The original array was [1,2,3,4,5] rotated 3 times.\n",
    "\n",
    "Example 2:\n",
    "\n",
    "Input: nums = [4,5,6,7,0,1,2]\n",
    "Output: 0\n",
    "Explanation: The original array was [0,1,2,4,5,6,7] and it was rotated 4 times.\n",
    "\n",
    "Example 3:\n",
    "\n",
    "Input: nums = [11,13,15,17]\n",
    "Output: 11\n",
    "Explanation: The original array was [11,13,15,17] and it was rotated 4 times."
   ]
  },
  {
   "cell_type": "code",
   "execution_count": 146,
   "id": "c3468ce9",
   "metadata": {},
   "outputs": [],
   "source": [
    "class Solution6:\n",
    "    def findMin(self, nums: List[int]) -> int:\n",
    "        return min(nums)"
   ]
  },
  {
   "cell_type": "code",
   "execution_count": 147,
   "id": "4c22f583",
   "metadata": {},
   "outputs": [
    {
     "data": {
      "text/plain": [
       "11"
      ]
     },
     "execution_count": 147,
     "metadata": {},
     "output_type": "execute_result"
    }
   ],
   "source": [
    "Solution6().findMin([11,13,15,17])"
   ]
  },
  {
   "cell_type": "markdown",
   "id": "c65c079b",
   "metadata": {},
   "source": [
    "💡 Question 7\n",
    "Given an array of integers nums sorted in non-decreasing order, find the starting and ending position of a given target value.\n",
    "\n",
    "If target is not found in the array, return [-1, -1].\n",
    "\n",
    "You must write an algorithm with O(log n) runtime complexity.\n",
    "\n",
    "Example 1:\n",
    "\n",
    "Input: nums = [5,7,7,8,8,10], target = 8\n",
    "Output: [3,4]\n",
    "\n",
    "Example 2:\n",
    "\n",
    "Input: nums = [5,7,7,8,8,10], target = 6\n",
    "Output: [-1,-1]\n",
    "\n",
    "Example 3:\n",
    "\n",
    "Input: nums = [], target = 0\n",
    "Output: [-1,-1]"
   ]
  },
  {
   "cell_type": "code",
   "execution_count": 148,
   "id": "3a8b84bf",
   "metadata": {},
   "outputs": [],
   "source": [
    "class Solution7:\n",
    "    def searchRange(self, nums: List[int], target: int) -> List[int]:\n",
    "        if target not in nums: return [-1, -1]\n",
    "\n",
    "        idx = nums.index(target)\n",
    "\n",
    "        res = [idx,idx]\n",
    "\n",
    "        while (res[1] < len(nums) -1) and (nums[res[1]+1]==target):\n",
    "            res[1] += 1\n",
    "           \n",
    "        return res"
   ]
  },
  {
   "cell_type": "code",
   "execution_count": 149,
   "id": "a6222e5d",
   "metadata": {},
   "outputs": [
    {
     "data": {
      "text/plain": [
       "[-1, -1]"
      ]
     },
     "execution_count": 149,
     "metadata": {},
     "output_type": "execute_result"
    }
   ],
   "source": [
    "Solution7().searchRange(nums = [5,7,7,8,8,10], target = 6)"
   ]
  },
  {
   "cell_type": "markdown",
   "id": "f1a48ddd",
   "metadata": {},
   "source": [
    "💡 Question 8\n",
    "Given two integer arrays nums1 and nums2, return an array of their intersection. Each element in the result must appear as many times as it shows in both arrays and you may return the result in any order.\n",
    "\n",
    "Example 1:\n",
    "\n",
    "Input: nums1 = [1,2,2,1], nums2 = [2,2]\n",
    "Output: [2,2]\n",
    "\n",
    "Example 2:\n",
    "\n",
    "Input: nums1 = [4,9,5], nums2 = [9,4,9,8,4]\n",
    "Output: [4,9]\n",
    "Explanation: [9,4] is also accepted."
   ]
  },
  {
   "cell_type": "code",
   "execution_count": 150,
   "id": "d76b552a",
   "metadata": {},
   "outputs": [],
   "source": [
    "class Solution8:\n",
    "    def intersect(self, nums1: List[int], nums2: List[int]) -> List[int]:\n",
    "        res = []\n",
    "        for i in nums1:\n",
    "            if i in nums2:\n",
    "                nums2.remove(i)\n",
    "                res.append(i)\n",
    "\n",
    "        return res"
   ]
  },
  {
   "cell_type": "code",
   "execution_count": 151,
   "id": "aab9b335",
   "metadata": {},
   "outputs": [
    {
     "data": {
      "text/plain": [
       "[4, 9]"
      ]
     },
     "execution_count": 151,
     "metadata": {},
     "output_type": "execute_result"
    }
   ],
   "source": [
    "Solution8().intersect(nums1 = [4,9,5], nums2 = [9,4,9,8,4])"
   ]
  },
  {
   "cell_type": "code",
   "execution_count": null,
   "id": "eb4f1df6",
   "metadata": {},
   "outputs": [],
   "source": []
  }
 ],
 "metadata": {
  "kernelspec": {
   "display_name": "Python 3 (ipykernel)",
   "language": "python",
   "name": "python3"
  },
  "language_info": {
   "codemirror_mode": {
    "name": "ipython",
    "version": 3
   },
   "file_extension": ".py",
   "mimetype": "text/x-python",
   "name": "python",
   "nbconvert_exporter": "python",
   "pygments_lexer": "ipython3",
   "version": "3.9.7"
  }
 },
 "nbformat": 4,
 "nbformat_minor": 5
}
