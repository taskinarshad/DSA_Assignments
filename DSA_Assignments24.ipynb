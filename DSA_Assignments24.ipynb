{
 "cells": [
  {
   "cell_type": "code",
   "execution_count": 428,
   "id": "c0b0e102",
   "metadata": {},
   "outputs": [
    {
     "data": {
      "text/plain": [
       "58"
      ]
     },
     "execution_count": 428,
     "metadata": {},
     "output_type": "execute_result"
    }
   ],
   "source": [
    "## Question-1:\n",
    "def romanToInt(s: str) -> int:\n",
    "    maps = {'I' : 1,'V' : 5,'X' : 10,'L' : 50,'C' : 100,'D' : 500,'M' : 1000}\n",
    "    sums = 0\n",
    "    i = 0\n",
    "    while i < len(s)-1:\n",
    "        if maps[s[i]] < maps[s[i+1]]:\n",
    "            sums += maps[s[i+1]]-maps[s[i]]\n",
    "            i += 1\n",
    "        else:\n",
    "            sums += maps[s[i]]\n",
    "        i += 1\n",
    "    if i != len(s):\n",
    "        sums += maps[s[-1]]\n",
    "    return sums\n",
    "\n",
    "s = \"LVIII\"\n",
    "romanToInt(s)"
   ]
  },
  {
   "cell_type": "code",
   "execution_count": 429,
   "id": "968e0eb0",
   "metadata": {},
   "outputs": [
    {
     "data": {
      "text/plain": [
       "3"
      ]
     },
     "execution_count": 429,
     "metadata": {},
     "output_type": "execute_result"
    }
   ],
   "source": [
    "## Question-2:\n",
    "def lengthOfLongestSubstring(s: str) -> int:\n",
    "        n = len(s)\n",
    "        maxLength = 0\n",
    "        charSet = set()\n",
    "        left = 0\n",
    "        \n",
    "        for right in range(n):\n",
    "            if s[right] not in charSet:\n",
    "                charSet.add(s[right])\n",
    "                maxLength = max(maxLength, right - left + 1)\n",
    "            else:\n",
    "                while s[right] in charSet:\n",
    "                    charSet.remove(s[left])\n",
    "                    left += 1\n",
    "                charSet.add(s[right])\n",
    "        \n",
    "        return maxLength\n",
    "    \n",
    "    \n",
    "s = \"abcabcbb\"\n",
    "lengthOfLongestSubstring(s)"
   ]
  },
  {
   "cell_type": "code",
   "execution_count": 430,
   "id": "fcb72b81",
   "metadata": {},
   "outputs": [
    {
     "name": "stdout",
     "output_type": "stream",
     "text": [
      "1\n"
     ]
    }
   ],
   "source": [
    "## Question-3\n",
    "def findMajority(arr, n):\n",
    "  \n",
    "    maxCount = 0\n",
    "    index = -1\n",
    "    for i in range(n):\n",
    "  \n",
    "        count = 1\n",
    "        for j in range(i+1, n):\n",
    "  \n",
    "            if(arr[i] == arr[j]):\n",
    "                count += 1\n",
    "  \n",
    "        if(count > maxCount):\n",
    "  \n",
    "            maxCount = count\n",
    "            index = i\n",
    "  \n",
    "    if (maxCount > n//2):\n",
    "        print(arr[index])\n",
    "  \n",
    "    else:\n",
    "        print(\"No Majority Element\")\n",
    "        \n",
    "\n",
    "arr = [1, 1, 2, 1, 3, 5, 1]\n",
    "n = len(arr)\n",
    "findMajority(arr, n)"
   ]
  },
  {
   "cell_type": "code",
   "execution_count": 431,
   "id": "26655f2a",
   "metadata": {},
   "outputs": [
    {
     "data": {
      "text/plain": [
       "[['eat', 'tea', 'ate'], ['tan', 'nat'], ['bat']]"
      ]
     },
     "execution_count": 431,
     "metadata": {},
     "output_type": "execute_result"
    }
   ],
   "source": [
    "## Question-4\n",
    "def groupAnagrams(strs):\n",
    "    strs_table = {}\n",
    "\n",
    "    for string in strs:\n",
    "        sorted_string = ''.join(sorted(string))\n",
    "\n",
    "        if sorted_string not in strs_table:\n",
    "            strs_table[sorted_string] = []\n",
    "\n",
    "        strs_table[sorted_string].append(string)\n",
    "\n",
    "    return list(strs_table.values())\n",
    "\n",
    "strs = [\"eat\",\"tea\",\"tan\",\"ate\",\"nat\",\"bat\"]\n",
    "groupAnagrams(strs)"
   ]
  },
  {
   "cell_type": "code",
   "execution_count": 432,
   "id": "3005963d",
   "metadata": {},
   "outputs": [
    {
     "data": {
      "text/plain": [
       "True"
      ]
     },
     "execution_count": 432,
     "metadata": {},
     "output_type": "execute_result"
    }
   ],
   "source": [
    "## Question-5\n",
    "def isUgly(n: int) -> bool:\n",
    "    if n <= 0: return False\n",
    "    for i in [2,3,5] :\n",
    "        while n % i==0 :\n",
    "            n = n//i\n",
    "    return n==1\n",
    "\n",
    "n = 1\n",
    "isUgly(n)"
   ]
  },
  {
   "cell_type": "code",
   "execution_count": 433,
   "id": "bbab8fca",
   "metadata": {},
   "outputs": [
    {
     "data": {
      "text/plain": [
       "['i', 'love']"
      ]
     },
     "execution_count": 433,
     "metadata": {},
     "output_type": "execute_result"
    }
   ],
   "source": [
    "## Question-6\n",
    "from collections import Counter\n",
    "\n",
    "def topKFrequent(words, k):\n",
    "\n",
    "    words = sorted(words)\n",
    "        \n",
    "    # Count the number of words using Counter\n",
    "    c = Counter(words)\n",
    "        \n",
    "    # Return the k most common words\n",
    "    return [word for word, _ in c.most_common(k)]\n",
    "\n",
    "words = [\"i\",\"love\",\"leetcode\",\"i\",\"love\",\"coding\"]\n",
    "k = 2\n",
    "topKFrequent(words,k)"
   ]
  },
  {
   "cell_type": "code",
   "execution_count": 434,
   "id": "520a7842",
   "metadata": {},
   "outputs": [
    {
     "data": {
      "text/plain": [
       "[3, 3, 5, 5, 6, 7]"
      ]
     },
     "execution_count": 434,
     "metadata": {},
     "output_type": "execute_result"
    }
   ],
   "source": [
    "## Question-7\n",
    "from collections import deque\n",
    "\n",
    "def maxSlidingWindow(nums, k):\n",
    "    q = deque() # stores *indices*\n",
    "    res = []\n",
    "    for i, cur in enumerate(nums):\n",
    "        while q and nums[q[-1]] <= cur:\n",
    "            q.pop()\n",
    "        q.append(i)\n",
    "        # remove first element if it's outside the window\n",
    "        if q[0] == i - k:\n",
    "            q.popleft()\n",
    "        # if window has k elements add to results (first k-1 windows have < k elements because we start from empty window and add 1 element each iteration)\n",
    "        if i >= k - 1:\n",
    "            res.append(nums[q[0]])\n",
    "    return res\n",
    "\n",
    "nums = [1,3,-1,-3,5,3,6,7]\n",
    "k = 3\n",
    "maxSlidingWindow(nums, k)"
   ]
  },
  {
   "cell_type": "code",
   "execution_count": 435,
   "id": "a011d46e",
   "metadata": {},
   "outputs": [
    {
     "data": {
      "text/plain": [
       "[1, 2, 3, 4]"
      ]
     },
     "execution_count": 435,
     "metadata": {},
     "output_type": "execute_result"
    }
   ],
   "source": [
    "import bisect\n",
    "\n",
    "## Question-8\n",
    "def findClosestElements(arr, k, x):\n",
    "    right = bisect.bisect_left(arr,x)\n",
    "    left = right-1\n",
    "    for _ in range(k):\n",
    "        if left < 0: right += 1\n",
    "        elif right >= len(arr): left -= 1\n",
    "        else:\n",
    "            if x-arr[left] <= arr[right]-x: left -= 1\n",
    "            else: right += 1\n",
    "    return arr[left+1:right]\n",
    "\n",
    "arr = [1,2,3,4,5]\n",
    "k = 4\n",
    "x = 3\n",
    "\n",
    "findClosestElements(arr, k, x)"
   ]
  },
  {
   "cell_type": "code",
   "execution_count": null,
   "id": "32457a41",
   "metadata": {},
   "outputs": [],
   "source": []
  }
 ],
 "metadata": {
  "kernelspec": {
   "display_name": "Python 3 (ipykernel)",
   "language": "python",
   "name": "python3"
  },
  "language_info": {
   "codemirror_mode": {
    "name": "ipython",
    "version": 3
   },
   "file_extension": ".py",
   "mimetype": "text/x-python",
   "name": "python",
   "nbconvert_exporter": "python",
   "pygments_lexer": "ipython3",
   "version": "3.9.7"
  }
 },
 "nbformat": 4,
 "nbformat_minor": 5
}
