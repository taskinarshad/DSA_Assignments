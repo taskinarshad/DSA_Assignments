{
 "cells": [
  {
   "cell_type": "markdown",
   "id": "17c2fb93",
   "metadata": {},
   "source": [
    "Question 1 Given an integer array nums of length n and an integer target, find three integers in nums such that the sum is closest to the target. Return the sum of the three integers.\n",
    "\n",
    "You may assume that each input would have exactly one solution.\n",
    "\n",
    "Example 1: Input: nums = [-1,2,1,-4], target = 1 Output: 2\n",
    "\n",
    "Explanation: The sum that is closest to the target is 2. (-1 + 2 + 1 = 2)."
   ]
  },
  {
   "cell_type": "code",
   "execution_count": 1,
   "id": "c5233603",
   "metadata": {},
   "outputs": [],
   "source": [
    "from typing import List\n",
    "\n",
    "\n",
    "class Solution1:\n",
    "    def threeSumClosest(self, nums: List[int], target: int) -> int:\n",
    "        nums.sort()\n",
    "        n = len(nums)\n",
    "        closest_sum = float('inf')\n",
    "\n",
    "        for i in range(n - 2):\n",
    "            left = i + 1\n",
    "            right = n - 1\n",
    "\n",
    "            while left < right:\n",
    "                current_sum = nums[i] + nums[left] + nums[right]\n",
    "                if current_sum == target:\n",
    "                    return current_sum\n",
    "\n",
    "                if abs(current_sum - target) < abs(closest_sum - target):\n",
    "                    closest_sum = current_sum\n",
    "\n",
    "                if current_sum < target:\n",
    "                    left += 1\n",
    "                else:\n",
    "                    right -= 1\n",
    "\n",
    "        return closest_sum"
   ]
  },
  {
   "cell_type": "code",
   "execution_count": 2,
   "id": "e596630b",
   "metadata": {},
   "outputs": [
    {
     "data": {
      "text/plain": [
       "2"
      ]
     },
     "execution_count": 2,
     "metadata": {},
     "output_type": "execute_result"
    }
   ],
   "source": [
    "nums=[-1,2,1,-4]\n",
    "target = 1\n",
    "\n",
    "Solution1().threeSumClosest(nums, target)"
   ]
  },
  {
   "cell_type": "markdown",
   "id": "7766df28",
   "metadata": {},
   "source": [
    "Question 2\n",
    "Given an array nums of n integers, return an array of all the unique quadruplets [nums[a], nums[b], nums[c], nums[d]] such that:\n",
    "\n",
    "       ● 0 <= a, b, c, d < n\n",
    "\n",
    "       ● a, b, c, and d are distinct.\n",
    "\n",
    "       ● nums[a] + nums[b] + nums[c] + nums[d] == target\n",
    "\n",
    "You may return the answer in any order.\n",
    "\n",
    "Example 1:\n",
    "\n",
    "Input: nums = [1,0,-1,0,-2,2], target = 0\n",
    "\n",
    "Output: [[-2,-1,1,2],[-2,0,0,2],[-1,0,0,1]]"
   ]
  },
  {
   "cell_type": "code",
   "execution_count": 3,
   "id": "6fa3f884",
   "metadata": {},
   "outputs": [],
   "source": [
    "class Solution2:\n",
    "    def fourSum(self, nums: List[int], target: int) -> List[List[int]]:\n",
    "        res = []  # Initialize the result list\n",
    "        \n",
    "        if len(nums) < 4:\n",
    "            return res\n",
    "\n",
    "        if len(nums) == 4:\n",
    "            if sum(nums) == target:\n",
    "                return [nums]\n",
    "            else:\n",
    "                return res\n",
    "\n",
    "        # nums = list(set(nums))\n",
    "        n = len(nums)\n",
    "        nums.sort()\n",
    "        \n",
    "        for i in range(n - 3):\n",
    "            if i>0 and nums[i] == nums[i-1]:\n",
    "                continue\n",
    "            for j in range(i + 1, n - 2):\n",
    "                if j > i+1 and nums[j] == nums[j-1]:\n",
    "                    continue\n",
    "                l = j + 1\n",
    "                r = n - 1\n",
    "                while l < r:\n",
    "                    if nums[i] + nums[j] + nums[l] + nums[r] == target:\n",
    "                        res.append([nums[i], nums[j], nums[l], nums[r]])\n",
    "                        l += 1\n",
    "                        r -= 1\n",
    "                        while l < r and nums[l] == nums[l - 1]:\n",
    "                            l += 1\n",
    "                        while l < r and nums[r] == nums[r + 1]:\n",
    "                            r -= 1\n",
    "                    elif nums[i] + nums[j] + nums[l] + nums[r] > target:\n",
    "                        r -= 1\n",
    "                    else:\n",
    "                        l += 1\n",
    "\n",
    "        return res"
   ]
  },
  {
   "cell_type": "code",
   "execution_count": 4,
   "id": "00b41a25",
   "metadata": {},
   "outputs": [
    {
     "name": "stdout",
     "output_type": "stream",
     "text": [
      "[[-2, -1, 1, 2], [-2, 0, 0, 2], [-1, 0, 0, 1]]\n"
     ]
    }
   ],
   "source": [
    "nums = [1,0,-1,0,-2,2]\n",
    "target = 0\n",
    "\n",
    "print(Solution2().fourSum(nums, target))\n"
   ]
  },
  {
   "cell_type": "markdown",
   "id": "5f5af5f2",
   "metadata": {},
   "source": [
    "💡 Question 3\n",
    "A permutation of an array of integers is an arrangement of its members into a sequence or linear order.\n",
    "\n",
    "For example, for arr = [1,2,3], the following are all the permutations of arr: [1,2,3], [1,3,2], [2, 1, 3], [2, 3, 1], [3,1,2], [3,2,1].\n",
    "\n",
    "The next permutation of an array of integers is the next lexicographically greater permutation of its integer. More formally, if all the permutations of the array are sorted in one container according to their lexicographical order, then the next permutation of that array is the permutation that follows it in the sorted container.\n",
    "\n",
    "If such an arrangement is not possible, the array must be rearranged as the lowest possible order (i.e., sorted in ascending order).\n",
    "\n",
    "● For example, the next permutation of arr = [1,2,3] is [1,3,2].\n",
    "\n",
    "● Similarly, the next permutation of arr = [2,3,1] is [3,1,2].\n",
    "\n",
    "● While the next permutation of arr = [3,2,1] is [1,2,3] because [3,2,1] does not have a lexicographical larger rearrangement.\n",
    "\n",
    "Given an array of integers nums, find the next permutation of nums. The replacement must be in place and use only constant extra memory.\n",
    "\n",
    "Example 1:\n",
    "\n",
    "Input: nums = [1,2,3]\n",
    "\n",
    "Output: [1,3,2]"
   ]
  },
  {
   "cell_type": "code",
   "execution_count": 5,
   "id": "8b51499b",
   "metadata": {},
   "outputs": [],
   "source": [
    "from typing import List\n",
    "class Solution3:\n",
    "    def nextPermutation(self, nums: List[int]) -> None:\n",
    "        \"\"\"\n",
    "        Do not return anything, modify nums in-place instead.\n",
    "        \"\"\"\n",
    "        i = -1\n",
    "\n",
    "        while i > - len(nums):\n",
    "            if nums[i] > nums[i-1]:\n",
    "                for k in sorted(nums[i:]):\n",
    "                    if k > nums[i-1]:\n",
    "                        idx = idx = nums[i:].index(k) + len(nums[:i])\n",
    "                        nums[i-1], nums[idx] = nums[idx], nums[i-1]\n",
    "                        break\n",
    "                nums[i:] = sorted(nums[i:])\n",
    "                break\n",
    "            if i == 1-len(nums):\n",
    "                nums.sort()\n",
    "            i -= 1"
   ]
  },
  {
   "cell_type": "code",
   "execution_count": 6,
   "id": "1944543e",
   "metadata": {},
   "outputs": [
    {
     "data": {
      "text/plain": [
       "[1, 3, 2]"
      ]
     },
     "execution_count": 6,
     "metadata": {},
     "output_type": "execute_result"
    }
   ],
   "source": [
    "nums = [1,2,3]\n",
    "\n",
    "Solution3().nextPermutation(nums)\n",
    "nums"
   ]
  },
  {
   "cell_type": "markdown",
   "id": "ee95e620",
   "metadata": {},
   "source": [
    "Question 4\n",
    "Given a sorted array of distinct integers and a target value, return the index if the target is found. If not, return the index where it would be if it were inserted in order.\n",
    "\n",
    "You must write an algorithm with O(log n) runtime complexity.\n",
    "\n",
    "Example 1:\n",
    "\n",
    "Input: nums = [1,3,5,6], target = 5\n",
    "\n",
    "Output: 2"
   ]
  },
  {
   "cell_type": "code",
   "execution_count": 7,
   "id": "fe23d91e",
   "metadata": {},
   "outputs": [],
   "source": [
    "class Solution4:\n",
    "    def searchInsert(self, nums: List[int], target: int) -> int:\n",
    "        if target in nums:\n",
    "            return nums.index(target)\n",
    "\n",
    "        else:\n",
    "            if target < min(nums):\n",
    "                return 0\n",
    "            if target > max(nums):\n",
    "                return len(nums)\n",
    "\n",
    "            for i in range(1, len(nums)):\n",
    "                if nums[i]>=target and nums[i-1]<target:\n",
    "                    return i"
   ]
  },
  {
   "cell_type": "code",
   "execution_count": 8,
   "id": "b086d226",
   "metadata": {},
   "outputs": [
    {
     "name": "stdout",
     "output_type": "stream",
     "text": [
      "2\n"
     ]
    }
   ],
   "source": [
    "nums = [1,3,5,6]\n",
    "target = 5\n",
    "\n",
    "print(Solution4().searchInsert(nums, target))"
   ]
  },
  {
   "cell_type": "markdown",
   "id": "8269fb2b",
   "metadata": {},
   "source": [
    "💡 Question 5\n",
    "You are given a large integer represented as an integer array digits, where each digits[i] is the ith digit of the integer. The digits are ordered from most significant to least significant in left-to-right order. The large integer does not contain any leading 0's.\n",
    "\n",
    "Increment the large integer by one and return the resulting array of digits.\n",
    "\n",
    "Example 1:\n",
    "\n",
    "Input: digits = [1,2,3]\n",
    "\n",
    "Output: [1,2,4]\n",
    "\n",
    "Explanation:\n",
    "\n",
    "The array represents the integer 123.\n",
    "\n",
    "Incrementing by one gives 123 + 1 = 124.\n",
    "\n",
    "Thus, the result should be [1,2,4]."
   ]
  },
  {
   "cell_type": "code",
   "execution_count": 9,
   "id": "f3c29765",
   "metadata": {},
   "outputs": [],
   "source": [
    "class Solution5:\n",
    "    def plusOne(self, digits: List[int]) -> List[int]:\n",
    "        def helper(digits, i):\n",
    "            if digits[i] < 9:\n",
    "                digits[i] += 1\n",
    "\n",
    "            else:\n",
    "                digits[i] = 0\n",
    "                if i!=0:\n",
    "                    helper(digits,i-1)\n",
    "                else:\n",
    "                    digits.insert(0,1)\n",
    "\n",
    "            return digits\n",
    "        \n",
    "        return helper(digits, len(digits)-1)"
   ]
  },
  {
   "cell_type": "code",
   "execution_count": 10,
   "id": "0c81fec5",
   "metadata": {},
   "outputs": [
    {
     "name": "stdout",
     "output_type": "stream",
     "text": [
      "[2, 0, 0]\n"
     ]
    }
   ],
   "source": [
    "digits = [1,9,9]\n",
    "\n",
    "print(Solution5().plusOne(digits=digits))"
   ]
  },
  {
   "cell_type": "markdown",
   "id": "0289d625",
   "metadata": {},
   "source": [
    "Question 6\n",
    "Given a non-empty array of integers nums, every element appears twice except for one. Find that single one.\n",
    "\n",
    "You must implement a solution with a linear runtime complexity and use only constant extra space.\n",
    "\n",
    "Example 1:\n",
    "\n",
    "Input: nums = [2,2,1]\n",
    "\n",
    "Output: 1"
   ]
  },
  {
   "cell_type": "code",
   "execution_count": 11,
   "id": "d3cf4b08",
   "metadata": {},
   "outputs": [],
   "source": [
    "class Solution6:\n",
    "    def singleNumber(self, nums: List[int]) -> int:\n",
    "        nums.sort()\n",
    "        i =0\n",
    "        while i < len(nums):\n",
    "            pop = nums.pop(i)\n",
    "            if pop not in nums:\n",
    "                return pop\n",
    "            i += 1"
   ]
  },
  {
   "cell_type": "code",
   "execution_count": 12,
   "id": "dce12f5e",
   "metadata": {},
   "outputs": [
    {
     "data": {
      "text/plain": [
       "1"
      ]
     },
     "execution_count": 12,
     "metadata": {},
     "output_type": "execute_result"
    }
   ],
   "source": [
    "nums = [2,2,1]\n",
    "\n",
    "Solution6().singleNumber(nums)"
   ]
  },
  {
   "cell_type": "markdown",
   "id": "e17b6a0a",
   "metadata": {},
   "source": [
    "Question 7\n",
    "You are given an inclusive range [lower, upper] and a sorted unique integer array nums, where all elements are within the inclusive range.\n",
    "\n",
    "A number x is considered missing if x is in the range [lower, upper] and x is not in nums.\n",
    "\n",
    "Return the shortest sorted list of ranges that exactly covers all the missing numbers. That is, no element of nums is included in any of the ranges, and each missing number is covered by one of the ranges.\n",
    "\n",
    "Example 1:\n",
    "\n",
    "Input: nums = [0,1,3,50,75], lower = 0, upper = 99\n",
    "\n",
    "Output: [[2,2],[4,49],[51,74],[76,99]]\n",
    "\n",
    "Explanation: The ranges are:\n",
    "\n",
    "[2,2]\n",
    "\n",
    "[4,49]\n",
    "\n",
    "[51,74]\n",
    "\n",
    "[76,99]"
   ]
  },
  {
   "cell_type": "code",
   "execution_count": 13,
   "id": "d9f51ff6",
   "metadata": {},
   "outputs": [],
   "source": [
    "class Solution7:\n",
    "    def summaryRanges(self, nums: List[int], lower: int, upper: int) -> List[str]:\n",
    "        \n",
    "        if len(nums) <= 1:\n",
    "            return []\n",
    "        \n",
    "        result = []\n",
    "        i = 0\n",
    "\n",
    "        while i < len(nums)-1:\n",
    "            if nums[i] + 1 != nums[i+1]:\n",
    "                result.append([nums[i]+1, nums[i+1]-1])\n",
    "                \n",
    "            i += 1\n",
    "\n",
    "            if i == len(nums)-1:\n",
    "                result.append([nums[i]+1, upper])\n",
    "\n",
    "            \n",
    "        return result"
   ]
  },
  {
   "cell_type": "code",
   "execution_count": 14,
   "id": "ed80b33b",
   "metadata": {},
   "outputs": [
    {
     "data": {
      "text/plain": [
       "[[2, 2], [4, 49], [51, 74], [76, 99]]"
      ]
     },
     "execution_count": 14,
     "metadata": {},
     "output_type": "execute_result"
    }
   ],
   "source": [
    "nums = [0,1,3,50,75]\n",
    "\n",
    "Solution7().summaryRanges(nums,0,99)\n"
   ]
  },
  {
   "cell_type": "markdown",
   "id": "d0ac3653",
   "metadata": {},
   "source": [
    "Question 8\n",
    "Given an array of meeting time intervals where intervals[i] = [starti, endi], determine if a person could attend all meetings.\n",
    "\n",
    "Example 1:\n",
    "\n",
    "Input: intervals = [[0,30],[5,10],[15,20]]\n",
    "\n",
    "Output: false"
   ]
  },
  {
   "cell_type": "code",
   "execution_count": 15,
   "id": "a9c0ec6e",
   "metadata": {},
   "outputs": [],
   "source": [
    "class Solution8:\n",
    "    def canAttendAllMeetings(self, intervals: List[List[int]]) -> bool:\n",
    "        # Sort the intervals based on the start time\n",
    "        intervals.sort(key=lambda x: x[0])\n",
    "\n",
    "        # Check for any overlapping intervals\n",
    "        for i in range(1, len(intervals)):\n",
    "            if intervals[i][0] < intervals[i-1][1]:\n",
    "                return False\n",
    "\n",
    "        return True"
   ]
  },
  {
   "cell_type": "code",
   "execution_count": 16,
   "id": "c0dc1e0f",
   "metadata": {},
   "outputs": [
    {
     "data": {
      "text/plain": [
       "False"
      ]
     },
     "execution_count": 16,
     "metadata": {},
     "output_type": "execute_result"
    }
   ],
   "source": [
    "intervals = [[0,30],[5,10],[15,20]]\n",
    "\n",
    "Solution8().canAttendAllMeetings(intervals)"
   ]
  },
  {
   "cell_type": "code",
   "execution_count": null,
   "id": "83b07413",
   "metadata": {},
   "outputs": [],
   "source": []
  }
 ],
 "metadata": {
  "kernelspec": {
   "display_name": "Python 3 (ipykernel)",
   "language": "python",
   "name": "python3"
  },
  "language_info": {
   "codemirror_mode": {
    "name": "ipython",
    "version": 3
   },
   "file_extension": ".py",
   "mimetype": "text/x-python",
   "name": "python",
   "nbconvert_exporter": "python",
   "pygments_lexer": "ipython3",
   "version": "3.9.7"
  }
 },
 "nbformat": 4,
 "nbformat_minor": 5
}
