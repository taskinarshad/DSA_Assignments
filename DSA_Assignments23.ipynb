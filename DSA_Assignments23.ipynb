{
 "cells": [
  {
   "cell_type": "code",
   "execution_count": 416,
   "id": "5e25233d",
   "metadata": {},
   "outputs": [
    {
     "name": "stdout",
     "output_type": "stream",
     "text": [
      "3\n"
     ]
    }
   ],
   "source": [
    "## Question-1:\n",
    "def findDepthRec(tree, n, index) :\n",
    " \n",
    "    if (index[0] >= n or tree[index[0]] == 'l'):\n",
    "        return 0\n",
    " \n",
    "    index[0] += 1\n",
    "    left = findDepthRec(tree, n, index)\n",
    " \n",
    "    index[0] += 1\n",
    "    right = findDepthRec(tree, n, index)\n",
    "    return (max(left, right) + 1)\n",
    " \n",
    "def findDepth(tree, n) :\n",
    " \n",
    "    index = [0]\n",
    "    return findDepthRec(tree, n, index)\n",
    "\n",
    "tree= \"nlnnlll\"\n",
    "n = len(tree)\n",
    "print(findDepth(tree, n))"
   ]
  },
  {
   "cell_type": "code",
   "execution_count": 417,
   "id": "acbabb58",
   "metadata": {},
   "outputs": [],
   "source": [
    "## Question-2\n",
    "class Node:    \n",
    "    # Constructor to create a new node\n",
    "    def __init__(self, data):\n",
    "        self.data = data\n",
    "        self.left = None\n",
    "        self.right = None\n",
    "        \n",
    "def leftViewUtil(root, level, max_level):\n",
    " \n",
    "    # Base Case\n",
    "    if root is None:\n",
    "        return\n",
    " \n",
    "    # If this is the first node of its level\n",
    "    if (max_level[0] < level):\n",
    "        print (root.data, end = \" \")\n",
    "        max_level[0] = level\n",
    " \n",
    "    # Recur for left and right subtree\n",
    "    leftViewUtil(root.left, level + 1, max_level)\n",
    "    leftViewUtil(root.right, level + 1, max_level)\n",
    "    \n",
    "def leftView(root):\n",
    "    max_level = [0]\n",
    "    leftViewUtil(root, 1, max_level)\n"
   ]
  },
  {
   "cell_type": "code",
   "execution_count": 418,
   "id": "86405b1a",
   "metadata": {},
   "outputs": [],
   "source": [
    "root = Node(10)\n",
    "root.left = Node(2)\n",
    "root.right = Node(3)\n",
    "root.left.left = Node(7)\n",
    "root.left.right = Node(8)\n",
    "root.right.right = Node(15)\n",
    "root.right.left = Node(12)\n",
    "root.right.right.left = Node(14)"
   ]
  },
  {
   "cell_type": "code",
   "execution_count": 419,
   "id": "c9fcbdbf",
   "metadata": {},
   "outputs": [
    {
     "name": "stdout",
     "output_type": "stream",
     "text": [
      "10 2 7 14 "
     ]
    }
   ],
   "source": [
    "leftView(root)"
   ]
  },
  {
   "cell_type": "code",
   "execution_count": 420,
   "id": "77eead4d",
   "metadata": {},
   "outputs": [],
   "source": [
    "## Question-3\n",
    "class Node:\n",
    "    # A constructor to create a new Binary tree Node\n",
    "    def __init__(self, item):\n",
    "        self.data = item\n",
    "        self.left = None\n",
    "        self.right = None\n",
    "        \n",
    "def rightViewUtil(root, level, max_level):\n",
    " \n",
    "    # Base Case\n",
    "    if root is None:\n",
    "        return\n",
    " \n",
    "    # If this is the last node of its level\n",
    "    if (max_level[0] < level):\n",
    "        print(root.data, end=\" \"),\n",
    "        max_level[0] = level\n",
    " \n",
    "    # Recur for right subtree first, then left subtree\n",
    "    rightViewUtil(root.right, level+1, max_level)\n",
    "    rightViewUtil(root.left, level+1, max_level)\n",
    " \n",
    " \n",
    "def rightView(root):\n",
    "    max_level = [0]\n",
    "    rightViewUtil(root, 1, max_level)"
   ]
  },
  {
   "cell_type": "code",
   "execution_count": 421,
   "id": "466c956c",
   "metadata": {},
   "outputs": [
    {
     "name": "stdout",
     "output_type": "stream",
     "text": [
      "1 3 7 8 "
     ]
    }
   ],
   "source": [
    "root = Node(1)\n",
    "root.left = Node(2)\n",
    "root.right = Node(3)\n",
    "root.left.left = Node(4)\n",
    "root.left.right = Node(5)\n",
    "root.right.left = Node(6)\n",
    "root.right.right = Node(7)\n",
    "root.right.left.right = Node(8)\n",
    " \n",
    "rightView(root)"
   ]
  },
  {
   "cell_type": "code",
   "execution_count": 426,
   "id": "5e1b502d",
   "metadata": {},
   "outputs": [],
   "source": [
    "## Question-4\n",
    "from collections import deque\n",
    "\n",
    "class Node:\n",
    "     \n",
    "    def __init__(self, key):\n",
    "         \n",
    "        self.data = key\n",
    "        self.hd = float('inf')\n",
    "        self.left = None\n",
    "        self.right = None\n",
    "        \n",
    "def bottomView(root):\n",
    " \n",
    "    if (root == None):\n",
    "        return\n",
    "     \n",
    "    # Initialize a variable 'hd' with 0\n",
    "    # for the root element.\n",
    "    hd = 0\n",
    "     \n",
    "    # Store minimum and maximum horizontal distance\n",
    "    # so that we do not have to sort keys at the end\n",
    "    min_hd, max_hd = 0, 0\n",
    "     \n",
    "    hd_dict = dict()\n",
    "  \n",
    "    # Queue to store tree nodes in level\n",
    "    # order traversal\n",
    "    q = deque()\n",
    "  \n",
    "    # Assign initialized horizontal distance\n",
    "    # value to root node and add it to the queue.\n",
    "    root.hd = hd\n",
    "    q.append(root) \n",
    "  \n",
    "    # Loop until the queue is empty (standard\n",
    "    # level order loop)\n",
    "    while q:\n",
    "        curr_node = q.popleft()\n",
    "          \n",
    "        # Extract the horizontal distance value\n",
    "        # from the dequeued tree node.\n",
    "        hd = curr_node.hd\n",
    "         \n",
    "        # Update the minimum and maximum hd\n",
    "        min_hd = min(min_hd, hd)\n",
    "        max_hd = max(max_hd, hd)\n",
    "  \n",
    "        # Put the dequeued tree node to dictionary\n",
    "        # having key as horizontal distance. Every\n",
    "        # time we find a node having same horizontal\n",
    "        # distance we need to update the value in\n",
    "        # the map.\n",
    "        hd_dict[hd] = curr_node.data\n",
    "  \n",
    "        # If the dequeued node has a left child, add\n",
    "        # it to the queue with a horizontal distance hd-1.\n",
    "        if curr_node.left:\n",
    "            curr_node.left.hd = hd - 1\n",
    "            q.append(curr_node.left)\n",
    "  \n",
    "        # If the dequeued node has a right child, add\n",
    "        # it to the queue with a horizontal distance\n",
    "        # hd+1.\n",
    "        if curr_node.right:\n",
    "            curr_node.right.hd = hd + 1\n",
    "            q.append(curr_node.right)\n",
    "  \n",
    "    # Traverse the map from least horizontal distance to\n",
    "    # most horizontal distance.\n",
    "    for i in range(min_hd, max_hd+1):\n",
    "        print(hd_dict[i], end = ' ')"
   ]
  },
  {
   "cell_type": "code",
   "execution_count": 424,
   "id": "a709838b",
   "metadata": {},
   "outputs": [],
   "source": [
    "root = Node(20)\n",
    "root.left = Node(8)\n",
    "root.right = Node(22)\n",
    "root.left.left = Node(5)\n",
    "root.left.right = Node(3)\n",
    "root.right.left = Node(4)\n",
    "root.right.right = Node(25)\n",
    "root.left.right.left = Node(10)\n",
    "root.left.right.right = Node(14)"
   ]
  },
  {
   "cell_type": "code",
   "execution_count": 427,
   "id": "a6cb5c4c",
   "metadata": {},
   "outputs": [
    {
     "name": "stdout",
     "output_type": "stream",
     "text": [
      "5 10 4 14 25 "
     ]
    }
   ],
   "source": [
    "bottomView(root)"
   ]
  },
  {
   "cell_type": "code",
   "execution_count": null,
   "id": "fa00c909",
   "metadata": {},
   "outputs": [],
   "source": []
  }
 ],
 "metadata": {
  "kernelspec": {
   "display_name": "Python 3 (ipykernel)",
   "language": "python",
   "name": "python3"
  },
  "language_info": {
   "codemirror_mode": {
    "name": "ipython",
    "version": 3
   },
   "file_extension": ".py",
   "mimetype": "text/x-python",
   "name": "python",
   "nbconvert_exporter": "python",
   "pygments_lexer": "ipython3",
   "version": "3.9.7"
  }
 },
 "nbformat": 4,
 "nbformat_minor": 5
}
