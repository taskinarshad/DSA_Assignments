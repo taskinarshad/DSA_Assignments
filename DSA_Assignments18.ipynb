{
 "cells": [
  {
   "cell_type": "markdown",
   "id": "1b9456c5",
   "metadata": {},
   "source": [
    "💡 1. Merge Intervals\n",
    "Given an array of intervals where intervals[i] = [starti, endi], merge all overlapping intervals, and return an array of the non-overlapping intervals that cover all the intervals in the input.\n",
    "\n",
    "Example 1:\n",
    "\n",
    "Input: intervals = [[1,3],[2,6],[8,10],[15,18]]\n",
    "Output: [[1,6],[8,10],[15,18]]\n",
    "Explanation: Since intervals [1,3] and [2,6] overlap, merge them into [1,6].\n",
    "Example 2:\n",
    "\n",
    "Input: intervals = [[1,4],[4,5]]\n",
    "Output: [[1,5]]\n",
    "Explanation: Intervals [1,4] and [4,5] are considered overlapping.\n",
    "Constraints:\n",
    "\n",
    "1 <= intervals.length <= 104\n",
    "intervals[i].length == 2\n",
    "0 <= starti <= endi <= 104"
   ]
  },
  {
   "cell_type": "code",
   "execution_count": 313,
   "id": "29091592",
   "metadata": {},
   "outputs": [],
   "source": [
    "from typing import List\n",
    "\n",
    "\n",
    "class Solution1:\n",
    "    def merge(self, intervals: List[List[int]]) -> List[List[int]]:\n",
    "        idx = 0\n",
    "\n",
    "        while True:\n",
    "            try:\n",
    "                if intervals[idx][1] >= intervals[idx+1][0]:\n",
    "                    first = intervals.pop(idx)\n",
    "                    second = intervals.pop(idx)\n",
    "\n",
    "                    new = [min(first[0], second[0]), max(first[1], second[1])]\n",
    "\n",
    "                    intervals.insert(idx, new)\n",
    "\n",
    "                idx += 1\n",
    "            except:\n",
    "                break\n",
    "        return intervals"
   ]
  },
  {
   "cell_type": "code",
   "execution_count": 314,
   "id": "3d0b3022",
   "metadata": {},
   "outputs": [
    {
     "data": {
      "text/plain": [
       "[[1, 6], [8, 10], [15, 18]]"
      ]
     },
     "execution_count": 314,
     "metadata": {},
     "output_type": "execute_result"
    }
   ],
   "source": [
    "intervals = [[1,3],[2,6],[8,10],[15,18]]\n",
    "\n",
    "Solution1().merge(intervals)"
   ]
  },
  {
   "cell_type": "markdown",
   "id": "667e451e",
   "metadata": {},
   "source": [
    "💡 2. Sort Colors\n",
    "Given an array nums with n objects colored red, white, or blue, sort them in-place so that objects of the same color are adjacent, with the colors in the order red, white, and blue.\n",
    "\n",
    "We will use the integers 0, 1, and 2 to represent the color red, white, and blue, respectively.\n",
    "\n",
    "You must solve this problem without using the library's sort function.\n",
    "\n",
    "Example 1:\n",
    "\n",
    "Input: nums = [2,0,2,1,1,0]\n",
    "Output: [0,0,1,1,2,2]\n",
    "\n",
    "Example 2:\n",
    "\n",
    "Input: nums = [2,0,1]\n",
    "Output: [0,1,2]\n",
    "\n",
    "Constraints:\n",
    "\n",
    "n == nums.length\n",
    "1 <= n <= 300\n",
    "nums[i] is either 0, 1, or 2."
   ]
  },
  {
   "cell_type": "code",
   "execution_count": 315,
   "id": "ca24bd45",
   "metadata": {},
   "outputs": [],
   "source": [
    "class Solution2:\n",
    "    def sortColors(self, colors: List[int])-> List[int]:\n",
    "        i = 0\n",
    "        while i < len(colors):\n",
    "            try:\n",
    "                if colors[i] > colors[i+1]:\n",
    "                    colors.append(colors.pop(i))\n",
    "                \n",
    "                    i = 0\n",
    "                else:\n",
    "                    i += 1\n",
    "            except:\n",
    "                break\n",
    "\n",
    "            \n",
    "\n",
    "        return colors"
   ]
  },
  {
   "cell_type": "code",
   "execution_count": 316,
   "id": "15a9cffe",
   "metadata": {},
   "outputs": [],
   "source": [
    "class Solution2:\n",
    "    def sortColors(self, colors: List[int])-> List[int]:\n",
    "        i = 0\n",
    "        lower, upper = 0, len(colors)\n",
    "        while lower <= i < upper:\n",
    "            if colors[i] == 0:\n",
    "                colors.insert(lower, colors.pop(i))\n",
    "                lower += 1\n",
    "                i += 1\n",
    "            elif colors[i] == 2:\n",
    "                colors.append(colors.pop(i))\n",
    "                upper -= 1\n",
    "            \n",
    "            else:\n",
    "                i += 1\n",
    "\n",
    "        return colors\n"
   ]
  },
  {
   "cell_type": "code",
   "execution_count": 317,
   "id": "bfbf944b",
   "metadata": {},
   "outputs": [],
   "source": [
    "# Best Solution\n",
    "class Solution2:\n",
    "    def sortColors(self, nums: List[int]) -> None:\n",
    "        \"\"\"\n",
    "        Do not return anything, modify nums in-place instead.\n",
    "        \"\"\"\n",
    "        i = 0 \n",
    "\n",
    "        while i < len(nums)-1:\n",
    "            mini = min(nums[i:])\n",
    "            if nums[i] > mini:\n",
    "                temp = nums[i]\n",
    "                idx = nums[i:].index(mini) + i\n",
    "                if temp != mini:\n",
    "                    nums[i] = mini\n",
    "                    nums[idx] = temp\n",
    "            i += 1\n",
    "\n",
    "        return nums"
   ]
  },
  {
   "cell_type": "code",
   "execution_count": 318,
   "id": "a7e1011c",
   "metadata": {},
   "outputs": [
    {
     "data": {
      "text/plain": [
       "[0, 0, 1, 1, 2, 2]"
      ]
     },
     "execution_count": 318,
     "metadata": {},
     "output_type": "execute_result"
    }
   ],
   "source": [
    "colors = [2,0,2,1,1,0]\n",
    "\n",
    "Solution2().sortColors(colors)"
   ]
  },
  {
   "cell_type": "code",
   "execution_count": 319,
   "id": "8f2ec5c7",
   "metadata": {},
   "outputs": [
    {
     "data": {
      "text/plain": [
       "[0, 0, 0, 0, 0, 0, 1, 1, 1, 1, 1, 1, 1, 2, 2, 2, 2]"
      ]
     },
     "execution_count": 319,
     "metadata": {},
     "output_type": "execute_result"
    }
   ],
   "source": [
    "colors = [2,1,0,1,1,2,0,1,1,0,2,2,0,0,1,1,0]\n",
    "\n",
    "Solution2().sortColors(colors)"
   ]
  },
  {
   "cell_type": "markdown",
   "id": "97e79da9",
   "metadata": {},
   "source": [
    "💡 3. First Bad Version Solution\n",
    "You are a product manager and currently leading a team to develop a new product. Unfortunately, the latest version of your product fails the quality check. Since each version is developed based on the previous version, all the versions after a bad version are also bad.\n",
    "\n",
    "Suppose you have n versions [1, 2, ..., n] and you want to find out the first bad one, which causes all the following ones to be bad.\n",
    "\n",
    "You are given an API bool isBadVersion(version) which returns whether version is bad. Implement a function to find the first bad version. You should minimize the number of calls to the API.\n",
    "\n",
    "Example 1:\n",
    "\n",
    "Input: n = 5, bad = 4\n",
    "Output: 4\n",
    "Explanation:\n",
    "call isBadVersion(3) -> false\n",
    "call isBadVersion(5) -> true\n",
    "call isBadVersion(4) -> true\n",
    "Then 4 is the first bad version.\n",
    "Example 2:\n",
    "\n",
    "Input: n = 1, bad = 1\n",
    "Output: 1\n",
    "Constraints:\n",
    "\n",
    "1 <= bad <= n <= 231 - 1"
   ]
  },
  {
   "cell_type": "code",
   "execution_count": 320,
   "id": "eb196ac8",
   "metadata": {},
   "outputs": [],
   "source": [
    "class Solution3:\n",
    "    def firstBadVersion(self, n: int) -> int:\n",
    "    \n",
    "        left = 1\n",
    "        right = n\n",
    "        \n",
    "        while (left < right):\n",
    "            mid = left + (right - left) // 2\n",
    "\n",
    "            if isBadVersion(mid):\n",
    "                if not isBadVersion(mid-1):\n",
    "                    return mid\n",
    "                right = mid\n",
    "            else:\n",
    "                left = mid + 1\n",
    "\n",
    "        return left"
   ]
  },
  {
   "cell_type": "markdown",
   "id": "2c2872f5",
   "metadata": {},
   "source": [
    "💡 4. Maximum Gap\n",
    "Given an integer array nums, return the maximum difference between two successive elements in its sorted form. If the array contains less than two elements, return 0.\n",
    "\n",
    "You must write an algorithm that runs in linear time and uses linear extra space.\n",
    "\n",
    "Example 1:\n",
    "\n",
    "Input: nums = [3,6,9,1]\n",
    "Output: 3\n",
    "Explanation: The sorted form of the array is [1,3,6,9], either (3,6) or (6,9) has the maximum difference 3.\n",
    "\n",
    "Example 2:\n",
    "\n",
    "Input: nums = [10]\n",
    "Output: 0\n",
    "Explanation: The array contains less than 2 elements, therefore return 0.\n",
    "\n",
    "Constraints:\n",
    "\n",
    "1 <= nums.length <= 10^5\n",
    "0 <= nums[i] <= 10^9"
   ]
  },
  {
   "cell_type": "code",
   "execution_count": 321,
   "id": "ed96b59e",
   "metadata": {},
   "outputs": [],
   "source": [
    "class Solution3:\n",
    "    def maximumGap(self, nums: List[int]) -> int:\n",
    "        nums.sort()\n",
    "        maxGap = 0\n",
    "\n",
    "        for i in range(len(nums)-1):\n",
    "            diff = abs(nums[i] - nums[i+1])\n",
    "            maxGap = max(maxGap, diff)\n",
    "\n",
    "        return maxGap"
   ]
  },
  {
   "cell_type": "code",
   "execution_count": 322,
   "id": "9bac7761",
   "metadata": {},
   "outputs": [
    {
     "data": {
      "text/plain": [
       "3"
      ]
     },
     "execution_count": 322,
     "metadata": {},
     "output_type": "execute_result"
    }
   ],
   "source": [
    "nums = [3,6,9,1]\n",
    "\n",
    "Solution3().maximumGap(nums)"
   ]
  },
  {
   "cell_type": "markdown",
   "id": "49654666",
   "metadata": {},
   "source": [
    "💡 5. Contains Duplicate\n",
    "Given an integer array nums, return true if any value appears at least twice in the array, and return false if every element is distinct.\n",
    "\n",
    "Example 1:\n",
    "\n",
    "Input: nums = [1,2,3,1]\n",
    "Output: true\n",
    "Example 2:\n",
    "\n",
    "Input: nums = [1,2,3,4]\n",
    "Output: false\n",
    "Example 3:\n",
    "\n",
    "Input: nums = [1,1,1,3,3,4,3,2,4,2]\n",
    "Output: true\n",
    "Constraints:\n",
    "\n",
    "1 <= nums.length <= 105 -109 <= nums[i] <= 109"
   ]
  },
  {
   "cell_type": "code",
   "execution_count": 323,
   "id": "f27ff5e4",
   "metadata": {},
   "outputs": [],
   "source": [
    "from typing import List\n",
    "\n",
    "class Solution5:\n",
    "    def containsDuplicate(self, nums: List[int])-> bool:\n",
    "        found = set()\n",
    "\n",
    "        for i in nums:\n",
    "            if found and i in found:\n",
    "                return True\n",
    "            else:\n",
    "                found.add(i)\n",
    "\n",
    "        return "
   ]
  },
  {
   "cell_type": "code",
   "execution_count": 324,
   "id": "47e1007b",
   "metadata": {},
   "outputs": [],
   "source": [
    "# Altrenative method\n",
    "class Solution5:\n",
    "    def containsDuplicate(self, nums: List[int]) -> bool:\n",
    "        if len(nums) > len(set(nums)):\n",
    "            return True\n",
    "        else:\n",
    "            return False"
   ]
  },
  {
   "cell_type": "code",
   "execution_count": 325,
   "id": "0910997c",
   "metadata": {},
   "outputs": [],
   "source": [
    "# Altrenative method\n",
    "class Solution5:\n",
    "    def containsDuplicate(self, nums: List[int])-> bool:\n",
    "        nums.sort()\n",
    "        i = 0\n",
    "        while i < len(nums)-1:\n",
    "            if nums[i] == nums[i+1]:\n",
    "                return True\n",
    "            i += 1\n",
    "        \n",
    "        return False"
   ]
  },
  {
   "cell_type": "code",
   "execution_count": 326,
   "id": "2b451f1b",
   "metadata": {},
   "outputs": [
    {
     "data": {
      "text/plain": [
       "True"
      ]
     },
     "execution_count": 326,
     "metadata": {},
     "output_type": "execute_result"
    }
   ],
   "source": [
    "nums = [1,1,1,3,3,4,3,2,4,2]\n",
    "\n",
    "Solution5().containsDuplicate(nums)"
   ]
  },
  {
   "cell_type": "markdown",
   "id": "5b7f2a0c",
   "metadata": {},
   "source": [
    "💡 6. Minimum Number of Arrows to Burst Balloons\n",
    "There are some spherical balloons taped onto a flat wall that represents the XY-plane. The balloons are represented as a 2D integer array points where points[i] = [xstart, xend] denotes a balloon whose horizontal diameter stretches between xstart and xend.\n",
    "\n",
    "You do not know the exact y-coordinates of the balloons.\n",
    "\n",
    "Arrows can be shot up directly vertically (in the positive y-direction) from different points along the x-axis. A balloon with xstart and xend is burst by an arrow shot at x if xstart <= x <= xend. There is no limit to the number of arrows that can be shot. A shot arrow keeps traveling up infinitely, bursting any balloons in its path.\n",
    "\n",
    "Given the array points, return the minimum number of arrows that must be shot to burst all balloons.\n",
    "\n",
    "Example 1:\n",
    "\n",
    "Input: points = [[10,16],[2,8],[1,6],[7,12]]\n",
    "Output: 2\n",
    "Explanation: The balloons can be burst by 2 arrows:\n",
    "- Shoot an arrow at x = 6, bursting the balloons [2,8] and [1,6].\n",
    "- Shoot an arrow at x = 11, bursting the balloons [10,16] and [7,12].\n",
    "Example 2:\n",
    "\n",
    "Input: points = [[1,2],[3,4],[5,6],[7,8]]\n",
    "Output: 4\n",
    "Explanation: One arrow needs to be shot for each balloon for a total of 4 arrows.\n",
    "Example 3:\n",
    "\n",
    "Input: points = [[1,2],[2,3],[3,4],[4,5]]\n",
    "Output: 2\n",
    "Explanation: The balloons can be burst by 2 arrows:\n",
    "- Shoot an arrow at x = 2, bursting the balloons [1,2] and [2,3].\n",
    "- Shoot an arrow at x = 4, bursting the balloons [3,4] and [4,5].\n",
    "Constraints:\n",
    "\n",
    "1 <= points.length <= 105\n",
    "\n",
    "points[i].length == 2\n",
    "\n",
    "-231 <= xstart < xend <= 231 - 1"
   ]
  },
  {
   "cell_type": "code",
   "execution_count": 327,
   "id": "cc658d6b",
   "metadata": {},
   "outputs": [],
   "source": [
    "class Solution6:\n",
    "    def maxArrows(self, points: List[List[int]])-> int:\n",
    "        points.sort(key=lambda x: x[0] )\n",
    "        idx = 0\n",
    "        arrow_count = 1\n",
    "        while True:\n",
    "            try:\n",
    "                if points[idx][1] >= points[idx+1][0]:\n",
    "                    first = points.pop(idx)\n",
    "                    second = points.pop(idx)\n",
    "\n",
    "                    new = [max(first[0], second[0]), min(first[1], second[1])]\n",
    "\n",
    "                    points.insert(idx, new)\n",
    "\n",
    "                else:\n",
    "                    idx += 1\n",
    "                    arrow_count += 1\n",
    "            except:\n",
    "                break\n",
    "        return arrow_count"
   ]
  },
  {
   "cell_type": "code",
   "execution_count": 328,
   "id": "809b4d99",
   "metadata": {},
   "outputs": [],
   "source": [
    "class Solution6:\n",
    "    def maxArrows(self, points: List[List[int]]) -> int:\n",
    "        points.sort(key=lambda x: x[0])\n",
    "        arrow_count = 0\n",
    "        current_end = float('-inf')\n",
    "\n",
    "        for point in points:\n",
    "            if point[0] > current_end:\n",
    "                arrow_count += 1\n",
    "                current_end = point[1]\n",
    "            else:\n",
    "                current_end = min(current_end, point[1])\n",
    "\n",
    "        return arrow_count\n"
   ]
  },
  {
   "cell_type": "code",
   "execution_count": 329,
   "id": "5562a0c1",
   "metadata": {},
   "outputs": [],
   "source": [
    "class Solution6:\n",
    "    def maxArrows(self, points: List[List[int]]) -> int:\n",
    "        points.sort(key=lambda x: x[1])\n",
    "        arrow_count = 0\n",
    "        current_end = float('-inf')\n",
    "\n",
    "        for point in points:\n",
    "            if point[0] > current_end:\n",
    "                arrow_count += 1\n",
    "                current_end = point[1]\n",
    "\n",
    "        return arrow_count\n"
   ]
  },
  {
   "cell_type": "code",
   "execution_count": 330,
   "id": "8e81ea2e",
   "metadata": {},
   "outputs": [
    {
     "data": {
      "text/plain": [
       "2"
      ]
     },
     "execution_count": 330,
     "metadata": {},
     "output_type": "execute_result"
    }
   ],
   "source": [
    "points = [[10,16],[2,8],[1,6],[7,12]]\n",
    "\n",
    "Solution6().maxArrows(points)"
   ]
  },
  {
   "cell_type": "code",
   "execution_count": 331,
   "id": "37d86760",
   "metadata": {},
   "outputs": [
    {
     "data": {
      "text/plain": [
       "4"
      ]
     },
     "execution_count": 331,
     "metadata": {},
     "output_type": "execute_result"
    }
   ],
   "source": [
    "points = [[1,2],[3,4],[5,6],[7,8]]\n",
    "Solution6().maxArrows(points)\n"
   ]
  },
  {
   "cell_type": "code",
   "execution_count": 332,
   "id": "9b4331c2",
   "metadata": {},
   "outputs": [
    {
     "data": {
      "text/plain": [
       "2"
      ]
     },
     "execution_count": 332,
     "metadata": {},
     "output_type": "execute_result"
    }
   ],
   "source": [
    "points= [[1,2],[2,3],[3,4],[4,5]]\n",
    "Solution6().maxArrows(points)"
   ]
  },
  {
   "cell_type": "markdown",
   "id": "72e85805",
   "metadata": {},
   "source": [
    "💡 7. Longest Increasing Subsequence\n",
    "Given an integer array nums, return the length of the longest strictly increasing subsequence.\n",
    "\n",
    "Example 1:\n",
    "\n",
    "Input: nums = [10,9,2,5,3,7,101,18]\n",
    "Output: 4\n",
    "Explanation: The longest increasing subsequence is [2,3,7,101], therefore the length is 4.\n",
    "Example 2:\n",
    "\n",
    "Input: nums = [0,1,0,3,2,3]\n",
    "Output: 4\n",
    "Example 3:\n",
    "\n",
    "Input: nums = [7,7,7,7,7,7,7]\n",
    "Output: 1\n",
    "Constraints:\n",
    "\n",
    "1 <= nums.length <= 2500\n",
    "-104 <= nums[i] <= 104"
   ]
  },
  {
   "cell_type": "code",
   "execution_count": 333,
   "id": "873ebf6a",
   "metadata": {},
   "outputs": [],
   "source": [
    "class Solution7:\n",
    "    def lengthOfLIS(self, nums: List[int]) -> int:\n",
    "        n = len(nums)\n",
    "        tails = [0] * n\n",
    "        size = 0\n",
    "\n",
    "        for num in nums:\n",
    "            left, right = 0, size\n",
    "            while left < right:\n",
    "                mid = left + (right - left) // 2\n",
    "                if tails[mid] < num:\n",
    "                    left = mid + 1\n",
    "                else:\n",
    "                    right = mid\n",
    "\n",
    "            tails[left] = num\n",
    "            size = max(size, left + 1)\n",
    "\n",
    "        return size"
   ]
  },
  {
   "cell_type": "code",
   "execution_count": 334,
   "id": "6349997a",
   "metadata": {},
   "outputs": [],
   "source": [
    "import bisect\n",
    "\n",
    "\n",
    "class Solution7:\n",
    "    def lengthOfLIS(self, nums: List[int]) -> int:\n",
    "      \"\"\"Returns the length of the longest increasing subsequence in nums.\"\"\"\n",
    "      tails = [float('inf')] * (len(nums) + 1)  # Initialize tails with positive infinity\n",
    "      size = 0\n",
    "\n",
    "      for num in nums:\n",
    "          i = bisect.bisect_left(tails, num, hi=size)  # Perform binary search within the current size\n",
    "          tails[i] = num\n",
    "          if i == size:\n",
    "              size += 1\n",
    "\n",
    "      return size"
   ]
  },
  {
   "cell_type": "code",
   "execution_count": 335,
   "id": "d99a96df",
   "metadata": {},
   "outputs": [
    {
     "data": {
      "text/plain": [
       "4"
      ]
     },
     "execution_count": 335,
     "metadata": {},
     "output_type": "execute_result"
    }
   ],
   "source": [
    "nums = [10,9,2,5,3,7,101,18]\n",
    "\n",
    "Solution7().lengthOfLIS(nums)"
   ]
  },
  {
   "cell_type": "markdown",
   "id": "4279c00a",
   "metadata": {},
   "source": [
    "4\n",
    "💡 8. 132 Pattern\n",
    "Given an array of n integers nums, a 132 pattern is a subsequence of three integers nums[i], nums[j] and nums[k] such that i < j < k and nums[i] < nums[k] < nums[j].\n",
    "\n",
    "Return true if there is a 132 pattern in nums, otherwise, return false.\n",
    "\n",
    "Example 1:\n",
    "\n",
    "Input: nums = [1,2,3,4]\n",
    "Output: false\n",
    "Explanation: There is no 132 pattern in the sequence.\n",
    "Example 2:\n",
    "\n",
    "Input: nums = [3,1,4,2]\n",
    "Output: true\n",
    "Explanation: There is a 132 pattern in the sequence: [1, 4, 2].\n",
    "Example 3:\n",
    "\n",
    "Input: nums = [-1,3,2,0]\n",
    "Output: true\n",
    "Explanation: There are three 132 patterns in the sequence: [-1, 3, 2], [-1, 3, 0] and [-1, 2, 0].\n",
    "Constraints:\n",
    "\n",
    "n == nums.length\n",
    "1 <= n <= 2 * 105\n",
    "-109 <= nums[i] <= 109\n"
   ]
  },
  {
   "cell_type": "code",
   "execution_count": 336,
   "id": "8fb882d4",
   "metadata": {},
   "outputs": [],
   "source": [
    "class Solution8:\n",
    "    def find132pattern(self, nums: List[int]) -> bool:\n",
    "\n",
    "        for i in range(len(nums)-2):\n",
    "            for j in range(i+1, len(nums)-1):\n",
    "                if nums[j] > nums[i]:\n",
    "                    for k in range(j+1, len(nums)):\n",
    "                        if nums[k] > nums[i] and nums[k] < nums[j]:\n",
    "                            return True\n",
    "        return False"
   ]
  },
  {
   "cell_type": "code",
   "execution_count": 337,
   "id": "bb4ce965",
   "metadata": {},
   "outputs": [],
   "source": [
    "class Solution8:\n",
    "    def find132pattern(self, nums: List[int]) -> bool:\n",
    "        stack = []\n",
    "        s3 = float('-inf')  # Initialize the \"3\" value with negative infinity\n",
    "\n",
    "        for num in reversed(nums):\n",
    "            if num < s3:\n",
    "                return True\n",
    "\n",
    "            while stack and stack[-1] < num:\n",
    "                s3 = stack.pop()\n",
    "\n",
    "            stack.append(num)\n",
    "\n",
    "        return False"
   ]
  },
  {
   "cell_type": "code",
   "execution_count": 338,
   "id": "572be2e6",
   "metadata": {},
   "outputs": [
    {
     "data": {
      "text/plain": [
       "False"
      ]
     },
     "execution_count": 338,
     "metadata": {},
     "output_type": "execute_result"
    }
   ],
   "source": [
    "nums = [1,2,3,4]\n",
    "\n",
    "Solution8().find132pattern(nums)"
   ]
  },
  {
   "cell_type": "code",
   "execution_count": 339,
   "id": "a4630a02",
   "metadata": {},
   "outputs": [
    {
     "data": {
      "text/plain": [
       "True"
      ]
     },
     "execution_count": 339,
     "metadata": {},
     "output_type": "execute_result"
    }
   ],
   "source": [
    "nums = [3,1,4,2]\n",
    "\n",
    "Solution8().find132pattern(nums)\n"
   ]
  },
  {
   "cell_type": "code",
   "execution_count": 340,
   "id": "dda7d0a8",
   "metadata": {},
   "outputs": [
    {
     "data": {
      "text/plain": [
       "True"
      ]
     },
     "execution_count": 340,
     "metadata": {},
     "output_type": "execute_result"
    }
   ],
   "source": [
    "nums = [-1,3,2,0]\n",
    "\n",
    "Solution8().find132pattern(nums)"
   ]
  },
  {
   "cell_type": "code",
   "execution_count": 341,
   "id": "1230a146",
   "metadata": {},
   "outputs": [
    {
     "data": {
      "text/plain": [
       "False"
      ]
     },
     "execution_count": 341,
     "metadata": {},
     "output_type": "execute_result"
    }
   ],
   "source": [
    "nums = [1,0,1,-4,-3]\n",
    "\n",
    "Solution8().find132pattern(nums)"
   ]
  },
  {
   "cell_type": "code",
   "execution_count": null,
   "id": "ba42080c",
   "metadata": {},
   "outputs": [],
   "source": []
  }
 ],
 "metadata": {
  "kernelspec": {
   "display_name": "Python 3 (ipykernel)",
   "language": "python",
   "name": "python3"
  },
  "language_info": {
   "codemirror_mode": {
    "name": "ipython",
    "version": 3
   },
   "file_extension": ".py",
   "mimetype": "text/x-python",
   "name": "python",
   "nbconvert_exporter": "python",
   "pygments_lexer": "ipython3",
   "version": "3.9.7"
  }
 },
 "nbformat": 4,
 "nbformat_minor": 5
}
