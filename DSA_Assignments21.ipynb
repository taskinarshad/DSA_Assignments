{
 "cells": [
  {
   "cell_type": "code",
   "execution_count": 380,
   "id": "6813ad2f",
   "metadata": {},
   "outputs": [],
   "source": [
    "class TreeNode:\n",
    "    def __init__(self, val: int, left: int = None, right: int = None)->None:\n",
    "        self.val = val\n",
    "        self.left = left\n",
    "        self.right = right"
   ]
  },
  {
   "cell_type": "code",
   "execution_count": 381,
   "id": "ca5cfe09",
   "metadata": {},
   "outputs": [],
   "source": [
    "class PrintTree:\n",
    "    def __init__(self, root: TreeNode):\n",
    "        self.root = root\n",
    "        self.tag()\n",
    "        self.printTree(self.root)\n",
    "        print('\\n\\n')\n",
    "\n",
    "    def tag(self):\n",
    "        print(\"Inorder Traversal:\", end=\" \")\n",
    "\n",
    "    def printTree(self, root):\n",
    "        if not root:\n",
    "            return\n",
    "        \n",
    "        self.printTree(root.left)\n",
    "        print(root.val, end=\" \")\n",
    "        self.printTree(root.right)"
   ]
  },
  {
   "cell_type": "markdown",
   "id": "b74c4689",
   "metadata": {},
   "source": [
    "💡 Question-1\n",
    "You are given a binary tree. The binary tree is represented using the TreeNode class. Each TreeNode has an integer value and left and right children, represented using the TreeNode class itself. Convert this binary tree into a binary search tree.\n",
    "\n",
    "Input:\n",
    "\n",
    "        10\n",
    "\n",
    "       /   \\\n",
    "\n",
    "     2      7\n",
    "\n",
    "   /   \\\n",
    "\n",
    " 8      4\n",
    "\n",
    "Output:\n",
    "\n",
    "        8\n",
    "\n",
    "      /   \\\n",
    "\n",
    "    4     10\n",
    "\n",
    "  /   \\\n",
    "\n",
    "2      7"
   ]
  },
  {
   "cell_type": "code",
   "execution_count": 382,
   "id": "c80d331c",
   "metadata": {},
   "outputs": [],
   "source": [
    "from typing import Optional\n",
    "\n",
    "\n",
    "class Solution1:\n",
    "    def __init__(self):\n",
    "        self.values = []\n",
    "    \n",
    "    def inOrderTraversal(self, root: Optional[TreeNode]) -> None:\n",
    "        if not root:\n",
    "            return\n",
    "        \n",
    "        self.inOrderTraversal(root.left)\n",
    "        self.values.append(root.val)\n",
    "        self.inOrderTraversal(root.right)\n",
    "\n",
    "    def inOrderTraversalBST(self, root: Optional[TreeNode]) -> None:\n",
    "        if not root:\n",
    "            return\n",
    "        \n",
    "        self.inOrderTraversalBST(root.left)\n",
    "        root.val = self.values.pop(0)\n",
    "        self.inOrderTraversalBST(root.right)\n",
    "    \n",
    "    def convertToBST(self, root: Optional[TreeNode]) -> None:\n",
    "        self.inOrderTraversal(root)\n",
    "        self.values.sort()\n",
    "        self.inOrderTraversalBST(root)"
   ]
  },
  {
   "cell_type": "code",
   "execution_count": 383,
   "id": "874fb428",
   "metadata": {},
   "outputs": [],
   "source": [
    "# Example usage\n",
    "root = TreeNode(10)\n",
    "root.left = TreeNode(2)\n",
    "root.right = TreeNode(7)\n",
    "root.left.left = TreeNode(8)\n",
    "root.left.right = TreeNode(4)"
   ]
  },
  {
   "cell_type": "code",
   "execution_count": 384,
   "id": "ab99b12c",
   "metadata": {},
   "outputs": [
    {
     "name": "stdout",
     "output_type": "stream",
     "text": [
      "Before conversion\n",
      "Inorder Traversal: 8 2 4 10 7 \n",
      "\n",
      "\n",
      "After conversion :\n",
      "Inorder Traversal: 2 4 7 8 10 \n",
      "\n",
      "\n"
     ]
    },
    {
     "data": {
      "text/plain": [
       "<__main__.PrintTree at 0x1e90e03d790>"
      ]
     },
     "execution_count": 384,
     "metadata": {},
     "output_type": "execute_result"
    }
   ],
   "source": [
    "print(\"Before conversion\")\n",
    "PrintTree(root)\n",
    "\n",
    "Solution1().convertToBST(root)\n",
    "\n",
    "print(\"After conversion :\")\n",
    "PrintTree(root)"
   ]
  },
  {
   "cell_type": "markdown",
   "id": "a7e05cac",
   "metadata": {},
   "source": [
    "💡 Question-2:\n",
    "Given a Binary Search Tree with all unique values and two keys. Find the distance between two nodes in BST. The given keys always exist in BST.\n",
    "\n",
    "Example:\n",
    "\n",
    "Consider the following BST:\n",
    "\n",
    "img\n",
    "\n",
    "Input-1:\n",
    "\n",
    "n = 9\n",
    "\n",
    "values = [8, 3, 1, 6, 4, 7, 10, 14,13]\n",
    "\n",
    "node-1 = 6\n",
    "\n",
    "node-2 = 14\n",
    "Output-1:\n",
    "\n",
    "The distance between the two keys = 4\n",
    "Input-2:\n",
    "\n",
    "n = 9\n",
    "\n",
    "values = [8, 3, 1, 6, 4, 7, 10, 14,13]\n",
    "\n",
    "node-1 = 3\n",
    "\n",
    "node-2 = 4\n",
    "Output-2:\n",
    "\n",
    "The distance between the two keys = 2"
   ]
  },
  {
   "cell_type": "code",
   "execution_count": 385,
   "id": "74f31817",
   "metadata": {},
   "outputs": [],
   "source": [
    "class Solution2:\n",
    "\n",
    "    def findLCA(self, root, node1, node2):\n",
    "        if root is None:\n",
    "            return None\n",
    "\n",
    "        if root.val > node1.val and root.val > node2.val:\n",
    "            return self.findLCA(root.left, node1, node2)\n",
    "\n",
    "        if root.val < node1.val and root.val < node2.val:\n",
    "            return self.findLCA(root.right, node1, node2)\n",
    "\n",
    "        return root\n",
    "\n",
    "    def findDistance(self, root, node1, node2):\n",
    "        lca = self.findLCA(root, node1, node2)\n",
    "\n",
    "        def findPathLength(node, target):\n",
    "            if node.val == target.val:\n",
    "                return 0\n",
    "\n",
    "            if target.val < node.val:\n",
    "                return 1 + findPathLength(node.left, target)\n",
    "\n",
    "            return 1 + findPathLength(node.right, target)\n",
    "\n",
    "        path1 = findPathLength(lca, node1)\n",
    "        path2 = findPathLength(lca, node2)\n",
    "\n",
    "        return path1 + path2"
   ]
  },
  {
   "cell_type": "code",
   "execution_count": 386,
   "id": "777a07bf",
   "metadata": {},
   "outputs": [],
   "source": [
    "root = TreeNode(8)\n",
    "root.left = TreeNode(3)\n",
    "root.right = TreeNode(10)\n",
    "\n",
    "root.left.left = TreeNode(1)\n",
    "root.left.right = TreeNode(6)\n",
    "\n",
    "root.left.right.left = TreeNode(4)\n",
    "root.left.right.right = TreeNode(7)\n",
    "\n",
    "root.right.right = TreeNode(14)\n",
    "root.right.right.left = TreeNode(13)"
   ]
  },
  {
   "cell_type": "code",
   "execution_count": 387,
   "id": "371c761b",
   "metadata": {},
   "outputs": [
    {
     "name": "stdout",
     "output_type": "stream",
     "text": [
      "Inorder Traversal: 1 3 4 6 7 8 10 13 14 \n",
      "\n",
      "\n"
     ]
    },
    {
     "data": {
      "text/plain": [
       "<__main__.PrintTree at 0x1e90e02f250>"
      ]
     },
     "execution_count": 387,
     "metadata": {},
     "output_type": "execute_result"
    }
   ],
   "source": [
    "PrintTree(root)"
   ]
  },
  {
   "cell_type": "code",
   "execution_count": 388,
   "id": "104614e0",
   "metadata": {},
   "outputs": [
    {
     "data": {
      "text/plain": [
       "4"
      ]
     },
     "execution_count": 388,
     "metadata": {},
     "output_type": "execute_result"
    }
   ],
   "source": [
    "# distance between node 6 and node 14\n",
    "n1, n2 = root.left.right, root.right.right\n",
    "Solution2().findDistance(root, n1, n2)"
   ]
  },
  {
   "cell_type": "code",
   "execution_count": 389,
   "id": "f5c0f553",
   "metadata": {},
   "outputs": [
    {
     "data": {
      "text/plain": [
       "2"
      ]
     },
     "execution_count": 389,
     "metadata": {},
     "output_type": "execute_result"
    }
   ],
   "source": [
    "# distance between node 3 and node 4\n",
    "n1, n2 = root.left, root.left.right.left\n",
    "Solution2().findDistance(root, n1, n2)"
   ]
  },
  {
   "cell_type": "markdown",
   "id": "0c06f665",
   "metadata": {},
   "source": [
    "💡 Question-3:\n",
    "Write a program to convert a binary tree to a doubly linked list.\n",
    "\n",
    "Input:\n",
    "\n",
    "    10\n",
    "\n",
    "   /   \\\n",
    "\n",
    " 5     20\n",
    "\n",
    "       /   \\\n",
    "\n",
    "    30     35\n",
    "\n",
    "Output:\n",
    "\n",
    "5 10 30 20 35"
   ]
  },
  {
   "cell_type": "code",
   "execution_count": 390,
   "id": "4f7f3d4e",
   "metadata": {},
   "outputs": [],
   "source": [
    "class Solution3:\n",
    "    def BTtoDLL(self, root: TreeNode) -> TreeNode:\n",
    "        if not root:\n",
    "            return None\n",
    "\n",
    "        # Helper function to perform in-order traversal\n",
    "        def inorder(node):\n",
    "            nonlocal prev, head\n",
    "\n",
    "            if not node:\n",
    "                return\n",
    "\n",
    "            inorder(node.left)\n",
    "\n",
    "            if not prev:\n",
    "                # If prev is None, it means we are at the leftmost node\n",
    "                head = node\n",
    "            else:\n",
    "                # Link the previous node's right pointer to the current node\n",
    "                prev.right = node\n",
    "                # Link the current node's left pointer to the previous node\n",
    "                node.left = prev\n",
    "\n",
    "            prev = node\n",
    "\n",
    "            inorder(node.right)\n",
    "\n",
    "        prev = None  # Track the previous node\n",
    "        head = None  # Track the head of the doubly linked list\n",
    "\n",
    "        inorder(root)\n",
    "\n",
    "        # Set the right pointer of the last node to None\n",
    "        prev.right = None\n",
    "        # Set the left pointer of the head to None\n",
    "        head.left = None\n",
    "\n",
    "        return head"
   ]
  },
  {
   "cell_type": "code",
   "execution_count": 391,
   "id": "c2a721c5",
   "metadata": {},
   "outputs": [],
   "source": [
    "root = TreeNode(10)\n",
    "root.left = TreeNode(5)\n",
    "root.right = TreeNode(20)\n",
    "\n",
    "root.right.left = TreeNode(30)\n",
    "root.right.right = TreeNode(35)"
   ]
  },
  {
   "cell_type": "code",
   "execution_count": 392,
   "id": "be2e65f5",
   "metadata": {},
   "outputs": [
    {
     "name": "stdout",
     "output_type": "stream",
     "text": [
      "Inorder Traversal: 5 10 30 20 35 \n",
      "\n",
      "\n"
     ]
    },
    {
     "data": {
      "text/plain": [
       "<__main__.PrintTree at 0x1e90e02ff70>"
      ]
     },
     "execution_count": 392,
     "metadata": {},
     "output_type": "execute_result"
    }
   ],
   "source": [
    "PrintTree(root)"
   ]
  },
  {
   "cell_type": "code",
   "execution_count": 393,
   "id": "d5ea1387",
   "metadata": {},
   "outputs": [],
   "source": [
    "root = Solution3().BTtoDLL(root)"
   ]
  },
  {
   "cell_type": "code",
   "execution_count": 394,
   "id": "3bd15853",
   "metadata": {},
   "outputs": [
    {
     "name": "stdout",
     "output_type": "stream",
     "text": [
      "5 10 30 20 35 "
     ]
    }
   ],
   "source": [
    "# Print the doubly linked list\n",
    "current = root\n",
    "while current:\n",
    "    print(current.val, end=\" \")\n",
    "    current = current.right"
   ]
  },
  {
   "cell_type": "markdown",
   "id": "a61952ab",
   "metadata": {},
   "source": [
    "💡 Question-4:\n",
    "Write a program to connect nodes at the same level.\n",
    "\n",
    "Input:\n",
    "\n",
    "        1\n",
    "\n",
    "      /   \\\n",
    "\n",
    "    2      3\n",
    "\n",
    "  /   \\   /   \\\n",
    "\n",
    "4     5 6    7\n",
    "Output:\n",
    "\n",
    "1 → -1\n",
    "\n",
    "2 → 3\n",
    "\n",
    "3 → -1\n",
    "\n",
    "4 → 5\n",
    "\n",
    "5 → 6\n",
    "\n",
    "6 → 7\n",
    "\n",
    "7 → -1"
   ]
  },
  {
   "cell_type": "code",
   "execution_count": 395,
   "id": "a8a6d79b",
   "metadata": {},
   "outputs": [],
   "source": [
    "class Node:\n",
    "    def __init__(self, val):\n",
    "        self.val = val\n",
    "        self.left = None\n",
    "        self.right = None\n",
    "        self.nextRight = None\n",
    "\n",
    "class Solution4:\n",
    "    def connectAdjacentNodes(self, root: Node)->Node:\n",
    "        if not root:\n",
    "            return\n",
    "\n",
    "        queue = [root]\n",
    "\n",
    "        while queue:\n",
    "            size = len(queue)\n",
    "            prev = None\n",
    "\n",
    "            for i in range(size):\n",
    "                node = queue.pop(0)\n",
    "\n",
    "                if prev:\n",
    "                    prev.nextRight = node\n",
    "\n",
    "                prev = node\n",
    "\n",
    "                if node.left:\n",
    "                    queue.append(node.left)\n",
    "                if node.right:\n",
    "                    queue.append(node.right)\n",
    "\n",
    "        return root"
   ]
  },
  {
   "cell_type": "code",
   "execution_count": 396,
   "id": "d77c9e8f",
   "metadata": {},
   "outputs": [
    {
     "name": "stdout",
     "output_type": "stream",
     "text": [
      "1 → -1\n",
      "2 → 3 → -1\n",
      "4 → 5 → 6 → 7 → -1\n"
     ]
    }
   ],
   "source": [
    "def displayOutput(root):\n",
    "    current = root\n",
    "\n",
    "    while current:\n",
    "        print(f\"{current.val} →\", end=\" \")\n",
    "        current = current.nextRight\n",
    "\n",
    "    print(\"-1\")\n",
    "\n",
    "\n",
    "# Create the binary tree\n",
    "root = Node(1)\n",
    "root.left = Node(2)\n",
    "root.right = Node(3)\n",
    "root.left.left = Node(4)\n",
    "root.left.right = Node(5)\n",
    "root.right.left = Node(6)\n",
    "root.right.right = Node(7)\n",
    "\n",
    "# Apply Solution4 on root\n",
    "root = Solution4().connectAdjacentNodes(root)\n",
    "\n",
    "# Print the output\n",
    "current = root\n",
    "while current:\n",
    "    displayOutput(current)\n",
    "    current = current.left"
   ]
  },
  {
   "cell_type": "code",
   "execution_count": null,
   "id": "f2398c9a",
   "metadata": {},
   "outputs": [],
   "source": []
  }
 ],
 "metadata": {
  "kernelspec": {
   "display_name": "Python 3 (ipykernel)",
   "language": "python",
   "name": "python3"
  },
  "language_info": {
   "codemirror_mode": {
    "name": "ipython",
    "version": 3
   },
   "file_extension": ".py",
   "mimetype": "text/x-python",
   "name": "python",
   "nbconvert_exporter": "python",
   "pygments_lexer": "ipython3",
   "version": "3.9.7"
  }
 },
 "nbformat": 4,
 "nbformat_minor": 5
}
