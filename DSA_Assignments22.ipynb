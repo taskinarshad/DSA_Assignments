{
 "cells": [
  {
   "cell_type": "code",
   "execution_count": 397,
   "id": "568058d5",
   "metadata": {},
   "outputs": [],
   "source": [
    "class TreeNode:\n",
    "    def __init__(self, val: int, left: int = None, right: int = None)->None:\n",
    "        self.val = val\n",
    "        self.left = left\n",
    "        self.right = right"
   ]
  },
  {
   "cell_type": "code",
   "execution_count": 398,
   "id": "14588812",
   "metadata": {},
   "outputs": [],
   "source": [
    "class PrintTree:\n",
    "    def __init__(self, root: TreeNode):\n",
    "        self.root = root\n",
    "        self.tag()\n",
    "        self.printTree(self.root)\n",
    "\n",
    "    def tag(self):\n",
    "        print(\"Inorder Traversal:\", end=\" \")\n",
    "\n",
    "    def printTree(self, root):\n",
    "        if not root:\n",
    "            return\n",
    "        \n",
    "        self.printTree(root.left)\n",
    "        print(root.val, end=\" \")\n",
    "        self.printTree(root.right)"
   ]
  },
  {
   "cell_type": "markdown",
   "id": "fa030329",
   "metadata": {},
   "source": [
    "💡 Question-1:\n",
    "Given a Binary Tree (Bt), convert it to a Doubly Linked List(DLL). The left and right pointers in nodes are to be used as previous and next pointers respectively in converted DLL. The order of nodes in DLL must be the same as in Inorder for the given Binary Tree. The first node of Inorder traversal (leftmost node in BT) must be the head node of the DLL.\n",
    "\n",
    "Example:"
   ]
  },
  {
   "cell_type": "code",
   "execution_count": 399,
   "id": "5f85377e",
   "metadata": {},
   "outputs": [],
   "source": [
    "from typing import Optional, List\n",
    "\n",
    "class Solution1:\n",
    "    def __init__(self,):\n",
    "        self.head = None\n",
    "        self.prev = None\n",
    "\n",
    "    def TreeToDLL(self, root: TreeNode)-> None:\n",
    "        if not root: return\n",
    "\n",
    "        self.TreeToDLL(root.left)\n",
    "\n",
    "        if not self.head:\n",
    "            self.head = root\n",
    "        else:\n",
    "            root.left = self.prev\n",
    "            self.prev.right = root\n",
    "\n",
    "        self.prev = root\n",
    "\n",
    "        self.TreeToDLL(root.right)\n",
    "\n",
    "\n",
    "    def flatten(self, root: Optional[TreeNode]) -> TreeNode:\n",
    "        self.TreeToDLL(root)\n",
    "        return self.head"
   ]
  },
  {
   "cell_type": "code",
   "execution_count": 400,
   "id": "74a60934",
   "metadata": {},
   "outputs": [],
   "source": [
    "root = TreeNode(10)\n",
    "root.left = TreeNode(12)\n",
    "root.right = TreeNode(15)\n",
    "\n",
    "root.left.left = TreeNode(25)\n",
    "root.left.right = TreeNode(30)\n",
    "\n",
    "root.right.left = TreeNode(36)"
   ]
  },
  {
   "cell_type": "code",
   "execution_count": 401,
   "id": "fc9b85ec",
   "metadata": {},
   "outputs": [
    {
     "name": "stdout",
     "output_type": "stream",
     "text": [
      "Before Flattening: \n",
      "Inorder Traversal: 25 12 30 10 36 15 "
     ]
    },
    {
     "data": {
      "text/plain": [
       "<__main__.PrintTree at 0x1e90e02f310>"
      ]
     },
     "execution_count": 401,
     "metadata": {},
     "output_type": "execute_result"
    }
   ],
   "source": [
    "print(\"Before Flattening: \")\n",
    "PrintTree(root)"
   ]
  },
  {
   "cell_type": "code",
   "execution_count": 402,
   "id": "2f1262e0",
   "metadata": {},
   "outputs": [
    {
     "name": "stdout",
     "output_type": "stream",
     "text": [
      "After Flattening\n",
      "25 12 30 10 36 15 "
     ]
    }
   ],
   "source": [
    "head = Solution1().flatten(root)\n",
    "print(\"After Flattening\")\n",
    "# Print the doubly linked list\n",
    "current = head\n",
    "while current:\n",
    "    print(current.val, end=\" \")\n",
    "    current = current.right"
   ]
  },
  {
   "cell_type": "markdown",
   "id": "45af194d",
   "metadata": {},
   "source": [
    "💡 Question-2\n",
    "A Given a binary tree, the task is to flip the binary tree towards the right direction that is clockwise. See the below examples to see the transformation.\n",
    "\n",
    "In the flip operation, the leftmost node becomes the root of the flipped tree and its parent becomes its right child and the right sibling becomes its left child and the same should be done for all left most nodes recursively.\n",
    "\n",
    "Example1:"
   ]
  },
  {
   "cell_type": "code",
   "execution_count": 403,
   "id": "4cb089db",
   "metadata": {},
   "outputs": [],
   "source": [
    "class Solution2:\n",
    "    def __init__(self):\n",
    "        self.new_root = None \n",
    "    def flipTree(self, root: TreeNode)-> TreeNode:\n",
    "        if not root or not root.left or not root.right: return\n",
    "\n",
    "        self.flipTree(root.left)\n",
    "\n",
    "        if not self.new_root:\n",
    "            self.new_root = root.left\n",
    "        root.left.left = root.right\n",
    "        root.left.right = root\n",
    "        root.left = None\n",
    "        root.right = None\n",
    "\n",
    "        return self.new_root"
   ]
  },
  {
   "cell_type": "code",
   "execution_count": 404,
   "id": "8f5283bb",
   "metadata": {},
   "outputs": [],
   "source": [
    "root = TreeNode(1)\n",
    "root.left = TreeNode(2)\n",
    "root.right = TreeNode(3)\n",
    "\n",
    "root.right.left = TreeNode(4)\n",
    "root.right.right = TreeNode(5)"
   ]
  },
  {
   "cell_type": "code",
   "execution_count": 405,
   "id": "7fa1be87",
   "metadata": {},
   "outputs": [
    {
     "name": "stdout",
     "output_type": "stream",
     "text": [
      "Inorder Traversal: 2 1 4 3 5 "
     ]
    },
    {
     "data": {
      "text/plain": [
       "<__main__.PrintTree at 0x1e90e0363d0>"
      ]
     },
     "execution_count": 405,
     "metadata": {},
     "output_type": "execute_result"
    }
   ],
   "source": [
    "PrintTree(root)"
   ]
  },
  {
   "cell_type": "code",
   "execution_count": 406,
   "id": "4d53c9f5",
   "metadata": {},
   "outputs": [
    {
     "name": "stdout",
     "output_type": "stream",
     "text": [
      "Inorder Traversal: 4 3 5 2 1 "
     ]
    },
    {
     "data": {
      "text/plain": [
       "<__main__.PrintTree at 0x1e90df92d60>"
      ]
     },
     "execution_count": 406,
     "metadata": {},
     "output_type": "execute_result"
    }
   ],
   "source": [
    "new_root = Solution2().flipTree(root)\n",
    "PrintTree(new_root)"
   ]
  },
  {
   "cell_type": "code",
   "execution_count": 407,
   "id": "9dd77625",
   "metadata": {},
   "outputs": [],
   "source": [
    "root =TreeNode(1)\n",
    "root.left = TreeNode(2)\n",
    "root.right = TreeNode(3)\n",
    "\n",
    "root.left.left = TreeNode(4)\n",
    "root.left.right = TreeNode(5)\n",
    "\n",
    "root.right.left = TreeNode(6)\n",
    "root.right.right = TreeNode(7)"
   ]
  },
  {
   "cell_type": "code",
   "execution_count": 408,
   "id": "b9e185a1",
   "metadata": {},
   "outputs": [
    {
     "name": "stdout",
     "output_type": "stream",
     "text": [
      "Inorder Traversal: 4 2 5 1 6 3 7 "
     ]
    },
    {
     "data": {
      "text/plain": [
       "<__main__.PrintTree at 0x1e90e13f8b0>"
      ]
     },
     "execution_count": 408,
     "metadata": {},
     "output_type": "execute_result"
    }
   ],
   "source": [
    "PrintTree(root)"
   ]
  },
  {
   "cell_type": "code",
   "execution_count": 409,
   "id": "71c2e874",
   "metadata": {},
   "outputs": [
    {
     "name": "stdout",
     "output_type": "stream",
     "text": [
      "Inorder Traversal: 5 4 6 3 7 2 1 "
     ]
    },
    {
     "data": {
      "text/plain": [
       "<__main__.PrintTree at 0x1e90e02f130>"
      ]
     },
     "execution_count": 409,
     "metadata": {},
     "output_type": "execute_result"
    }
   ],
   "source": [
    "new_root = Solution2().flipTree(root)\n",
    "PrintTree(new_root)"
   ]
  },
  {
   "cell_type": "markdown",
   "id": "fbf5a572",
   "metadata": {},
   "source": [
    "💡 Question-3:\n",
    "Given a binary tree, print all its root-to-leaf paths without using recursion. For example, consider the following Binary Tree.\n",
    "\n",
    "Input:\n",
    "\n",
    "        6\n",
    "     /    \\\n",
    "    3      5\n",
    "  /   \\     \\\n",
    " 2     5     4\n",
    "     /   \\\n",
    "    7     4\n",
    "Output:\n",
    "\n",
    "There are 4 leaves, hence 4 root to leaf paths -\n",
    "  6->3->2\n",
    "  6->3->5->7\n",
    "  6->3->5->4\n",
    "  6->5>4\n"
   ]
  },
  {
   "cell_type": "code",
   "execution_count": 410,
   "id": "4c7544be",
   "metadata": {},
   "outputs": [],
   "source": [
    "class Solution3:\n",
    "    def __init__(self):\n",
    "        self.paths = []\n",
    "\n",
    "    def root_to_leaf_path(self, root: TreeNode, path: str)->None:\n",
    "        if not root: return\n",
    "\n",
    "        if not root.left and not root.right:\n",
    "            self.paths.append(path+str(root.val))\n",
    "            return\n",
    "        \n",
    "        path = path + str(root.val) + \"->\"\n",
    "\n",
    "        self.root_to_leaf_path(root.left, path)\n",
    "        self.root_to_leaf_path(root.right, path)\n",
    "\n",
    "    def root_to_leaf(self, root: TreeNode)-> None:\n",
    "        self.root_to_leaf_path(root, \"\")\n",
    "\n",
    "        n = len(self.paths)\n",
    "        print(f\"There are {n} leaves, hence {n} root to leaf paths -\")\n",
    "        for path in self.paths:\n",
    "            print(path) "
   ]
  },
  {
   "cell_type": "code",
   "execution_count": 411,
   "id": "d37dbe85",
   "metadata": {},
   "outputs": [
    {
     "data": {
      "text/plain": [
       "2"
      ]
     },
     "execution_count": 411,
     "metadata": {},
     "output_type": "execute_result"
    }
   ],
   "source": [
    "int(\"02\")"
   ]
  },
  {
   "cell_type": "code",
   "execution_count": 412,
   "id": "52bb48d2",
   "metadata": {},
   "outputs": [],
   "source": [
    "root = TreeNode(6)\n",
    "root.left = TreeNode(3)\n",
    "root.right = TreeNode(5)\n",
    "\n",
    "root.left.left = TreeNode(2)\n",
    "root.left.right = TreeNode(5)\n",
    "\n",
    "root.left.right.left = TreeNode(7)\n",
    "root.left.right.right = TreeNode(4)\n",
    "\n",
    "root.right.right = TreeNode(4)"
   ]
  },
  {
   "cell_type": "code",
   "execution_count": 413,
   "id": "624c965c",
   "metadata": {},
   "outputs": [
    {
     "name": "stdout",
     "output_type": "stream",
     "text": [
      "Inorder Traversal: 2 3 7 5 4 6 5 4 "
     ]
    },
    {
     "data": {
      "text/plain": [
       "<__main__.PrintTree at 0x1e90e117bb0>"
      ]
     },
     "execution_count": 413,
     "metadata": {},
     "output_type": "execute_result"
    }
   ],
   "source": [
    "PrintTree(root)"
   ]
  },
  {
   "cell_type": "code",
   "execution_count": 414,
   "id": "db7f1a43",
   "metadata": {},
   "outputs": [
    {
     "name": "stdout",
     "output_type": "stream",
     "text": [
      "There are 4 leaves, hence 4 root to leaf paths -\n",
      "6->3->2\n",
      "6->3->5->7\n",
      "6->3->5->4\n",
      "6->5->4\n"
     ]
    }
   ],
   "source": [
    "Solution3().root_to_leaf(root)"
   ]
  },
  {
   "cell_type": "markdown",
   "id": "3c4e928e",
   "metadata": {},
   "source": [
    "💡 Question-4:\n",
    "Given Preorder, Inorder and Postorder traversals of some tree. Write a program to check if they all are of the same tree.\n",
    "\n",
    "Examples:\n",
    "\n",
    "Input :\n",
    "\n",
    "    Inorder -> 4 2 5 1 3\n",
    "    Preorder -> 1 2 4 5 3\n",
    "    Postorder -> 4 5 2 3 1\n",
    "Output :\n",
    "\n",
    "Yes Explanation :\n",
    "\n",
    "All of the above three traversals are of the same tree\n",
    "\n",
    "                       1\n",
    "                     /   \\\n",
    "                    2     3\n",
    "                  /   \\\n",
    "                 4     5\n",
    "\n",
    "Input :\n",
    "\n",
    "    Inorder -> 4 2 5 1 3\n",
    "    Preorder -> 1 5 4 2 3\n",
    "    Postorder -> 4 1 2 3 5\n",
    "Output :\n",
    "\n",
    "No"
   ]
  },
  {
   "cell_type": "code",
   "execution_count": 415,
   "id": "ac645910",
   "metadata": {},
   "outputs": [],
   "source": [
    "class Solution4:\n",
    "    def isSameTree(self, t1: TreeNode, t2: TreeNode)->bool:\n",
    "        if not t1 and not t2:\n",
    "            return True\n",
    "        if not t1 or not t2:\n",
    "            return False\n",
    "        if t1.val != t2.val:\n",
    "            return False\n",
    "\n",
    "        left_same = self.isSameTree(t1.left, t2.left)\n",
    "        right_same = self.isSameTree(t1.right, t2.right)\n",
    "\n",
    "        return left_same and right_same\n",
    "\n",
    "    def treeFromPreorder(self, preorder: str or List)-> TreeNode:\n",
    "        pass\n",
    "\n",
    "    def treeFromInorder(self, inorder: str or List)-> TreeNode:\n",
    "        pass\n",
    "\n",
    "    def treeFromPostorder(self, postorder: str or List)-> TreeNode:\n",
    "        pass"
   ]
  },
  {
   "cell_type": "code",
   "execution_count": null,
   "id": "ee73e826",
   "metadata": {},
   "outputs": [],
   "source": []
  }
 ],
 "metadata": {
  "kernelspec": {
   "display_name": "Python 3 (ipykernel)",
   "language": "python",
   "name": "python3"
  },
  "language_info": {
   "codemirror_mode": {
    "name": "ipython",
    "version": 3
   },
   "file_extension": ".py",
   "mimetype": "text/x-python",
   "name": "python",
   "nbconvert_exporter": "python",
   "pygments_lexer": "ipython3",
   "version": "3.9.7"
  }
 },
 "nbformat": 4,
 "nbformat_minor": 5
}
