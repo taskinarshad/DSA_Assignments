{
 "cells": [
  {
   "cell_type": "markdown",
   "id": "d79ed155",
   "metadata": {},
   "source": [
    "💡 Question 1\n",
    "Given an integer n, return true if it is a power of two. Otherwise, return false.\n",
    "\n",
    "An integer n is a power of two, if there exists an integer x such that n == 2x.\n",
    "\n",
    "Example 1: Input: n = 1\n",
    "\n",
    "Output: true\n",
    "\n",
    "Example 2: Input: n = 16\n",
    "\n",
    "Output: true\n",
    "\n",
    "Example 3: Input: n = 3\n",
    "\n",
    "Output: false"
   ]
  },
  {
   "cell_type": "code",
   "execution_count": 104,
   "id": "5f45b2b8",
   "metadata": {},
   "outputs": [],
   "source": [
    "class Solution1:\n",
    "    def isPowerOfTwo(self, n: int) -> bool:\n",
    "        if n <= 0:\n",
    "            return False\n",
    "        return (n & -n) == n"
   ]
  },
  {
   "cell_type": "code",
   "execution_count": 105,
   "id": "be9d92f3",
   "metadata": {},
   "outputs": [
    {
     "data": {
      "text/plain": [
       "False"
      ]
     },
     "execution_count": 105,
     "metadata": {},
     "output_type": "execute_result"
    }
   ],
   "source": [
    "Solution1().isPowerOfTwo(5)"
   ]
  },
  {
   "cell_type": "markdown",
   "id": "28c01dd6",
   "metadata": {},
   "source": [
    "💡 Question 2\n",
    "Given a number n, find the sum of the first natural numbers.\n",
    "\n",
    "Example 1:\n",
    "\n",
    "Input: n = 3\n",
    "\n",
    "Output: 6\n",
    "\n",
    "Example 2:\n",
    "\n",
    "Input : 5\n",
    "\n",
    "Output : 15"
   ]
  },
  {
   "cell_type": "code",
   "execution_count": 106,
   "id": "18fcb582",
   "metadata": {},
   "outputs": [],
   "source": [
    "class Solution2:\n",
    "    def sum(self, n: int)-> int:\n",
    "        return int((n*(n+1))/2)"
   ]
  },
  {
   "cell_type": "code",
   "execution_count": 107,
   "id": "ef5e9788",
   "metadata": {},
   "outputs": [
    {
     "data": {
      "text/plain": [
       "6"
      ]
     },
     "execution_count": 107,
     "metadata": {},
     "output_type": "execute_result"
    }
   ],
   "source": [
    "Solution2().sum(3)"
   ]
  },
  {
   "cell_type": "markdown",
   "id": "ba7a3d4d",
   "metadata": {},
   "source": [
    "💡 Question 3\n",
    "****Given a positive integer, N. Find the factorial of N.\n",
    "\n",
    "Example 1:\n",
    "\n",
    "Input: N = 5\n",
    "\n",
    "Output: 120\n",
    "\n",
    "Example 2:\n",
    "\n",
    "Input: N = 4\n",
    "\n",
    "Output: 24"
   ]
  },
  {
   "cell_type": "code",
   "execution_count": 108,
   "id": "ac8cd891",
   "metadata": {},
   "outputs": [],
   "source": [
    "class Solution3:\n",
    "    def factorial(self, n):\n",
    "        \n",
    "        if n == 0:\n",
    "            return 1\n",
    "        \n",
    "        return n * self.factorial(n-1)"
   ]
  },
  {
   "cell_type": "code",
   "execution_count": 109,
   "id": "c1e8c330",
   "metadata": {},
   "outputs": [
    {
     "data": {
      "text/plain": [
       "6"
      ]
     },
     "execution_count": 109,
     "metadata": {},
     "output_type": "execute_result"
    }
   ],
   "source": [
    "Solution3().factorial(3)"
   ]
  },
  {
   "cell_type": "markdown",
   "id": "2d2a704c",
   "metadata": {},
   "source": [
    "💡 Question 4\n",
    "Given a number N and a power P, the task is to find the exponent of this number raised to the given power, i.e. N^P.\n",
    "\n",
    "Example 1 :\n",
    "\n",
    "Input: N = 5, P = 2\n",
    "\n",
    "Output: 25\n",
    "\n",
    "Example 2 : Input: N = 2, P = 5\n",
    "\n",
    "Output: 32"
   ]
  },
  {
   "cell_type": "code",
   "execution_count": 110,
   "id": "49dcab4c",
   "metadata": {},
   "outputs": [],
   "source": [
    "class Solution4:\n",
    "    def myPow(self, x: float, n: int) -> float:\n",
    "        if n == 0:\n",
    "            return 1.0\n",
    "        elif n < 0:\n",
    "            return 1.0 / self.myPow(x, -n)\n",
    "        elif n % 2 == 0:\n",
    "            temp = self.myPow(x, n // 2)\n",
    "            return temp * temp\n",
    "        else:\n",
    "            temp = self.myPow(x, (n - 1) // 2)\n",
    "            return x * temp * temp"
   ]
  },
  {
   "cell_type": "code",
   "execution_count": 111,
   "id": "0fe72c62",
   "metadata": {},
   "outputs": [
    {
     "data": {
      "text/plain": [
       "81.0"
      ]
     },
     "execution_count": 111,
     "metadata": {},
     "output_type": "execute_result"
    }
   ],
   "source": [
    "Solution4().myPow(-3,4)"
   ]
  },
  {
   "cell_type": "markdown",
   "id": "78e59f8f",
   "metadata": {},
   "source": [
    "💡 Question 5\n",
    "Given an array of integers arr, the task is to find maximum element of that array using recursion.\n",
    "\n",
    "Example 1:\n",
    "\n",
    "Input: arr = {1, 4, 3, -5, -4, 8, 6}; Output: 8\n",
    "\n",
    "Example 2:\n",
    "\n",
    "Input: arr = {1, 4, 45, 6, 10, -8}; Output: 45"
   ]
  },
  {
   "cell_type": "code",
   "execution_count": 112,
   "id": "8421cf31",
   "metadata": {},
   "outputs": [],
   "source": [
    "from typing import List\n",
    "\n",
    "\n",
    "class Solution5:\n",
    "    def findMax(self, arr: List[int])-> int:\n",
    "        if len(arr) == 1:\n",
    "            return arr[0]\n",
    "        return arr[0] if arr[0]>self.findMax(arr[1:]) else self.findMax(arr[1:])"
   ]
  },
  {
   "cell_type": "code",
   "execution_count": 113,
   "id": "7bec1122",
   "metadata": {},
   "outputs": [],
   "source": [
    "arr = [1, 4, 3, -5, -4, 8, 6]"
   ]
  },
  {
   "cell_type": "code",
   "execution_count": 114,
   "id": "478c9e91",
   "metadata": {},
   "outputs": [
    {
     "data": {
      "text/plain": [
       "8"
      ]
     },
     "execution_count": 114,
     "metadata": {},
     "output_type": "execute_result"
    }
   ],
   "source": [
    "Solution5().findMax(arr)"
   ]
  },
  {
   "cell_type": "markdown",
   "id": "c768427b",
   "metadata": {},
   "source": [
    " Question 6\n",
    "Given first term (a), common difference (d) and a integer N of the Arithmetic Progression series, the task is to find Nth term of the series.\n",
    "\n",
    "Example 1:\n",
    "\n",
    "Input : a = 2 d = 1 N = 5 Output : 6 The 5th term of the series is : 6\n",
    "\n",
    "Example 2:\n",
    "\n",
    "Input : a = 5 d = 2 N = 10 Output : 23 The 10th term of the series is : 23"
   ]
  },
  {
   "cell_type": "code",
   "execution_count": 115,
   "id": "49b0fa25",
   "metadata": {},
   "outputs": [],
   "source": [
    "class Solution6:\n",
    "    def nthTermAP(self,a, d, n):\n",
    "        return a + (n-1) * d"
   ]
  },
  {
   "cell_type": "code",
   "execution_count": 116,
   "id": "6dc2ef3c",
   "metadata": {},
   "outputs": [
    {
     "data": {
      "text/plain": [
       "23"
      ]
     },
     "execution_count": 116,
     "metadata": {},
     "output_type": "execute_result"
    }
   ],
   "source": [
    "Solution6().nthTermAP(5, 2, 10)"
   ]
  },
  {
   "cell_type": "markdown",
   "id": "41db552f",
   "metadata": {},
   "source": [
    "💡 Question 7\n",
    "Given a string S, the task is to write a program to print all permutations of a given string.\n",
    "\n",
    "Example 1:\n",
    "\n",
    "*Input:*\n",
    "\n",
    "S = “ABC”\n",
    "\n",
    "*Output:*\n",
    "\n",
    "“ABC”, “ACB”, “BAC”, “BCA”, “CBA”, “CAB”\n",
    "\n",
    "Example 2:\n",
    "\n",
    "*Input:*\n",
    "\n",
    "S = “XY”\n",
    "\n",
    "*Output:*\n",
    "\n",
    "“XY”, “YX”"
   ]
  },
  {
   "cell_type": "code",
   "execution_count": 117,
   "id": "67384add",
   "metadata": {},
   "outputs": [
    {
     "name": "stdout",
     "output_type": "stream",
     "text": [
      "ABC\n",
      "ACB\n",
      "BAC\n",
      "BCA\n",
      "CAB\n",
      "CBA\n"
     ]
    }
   ],
   "source": [
    "from itertools import permutations\n",
    "\n",
    "for s in list(permutations(\"ABC\")):\n",
    "    print(\"\".join(s))"
   ]
  },
  {
   "cell_type": "markdown",
   "id": "ba7683c9",
   "metadata": {},
   "source": [
    "💡 Question 8\n",
    "Given an array, find a product of all array elements.\n",
    "\n",
    "Example 1:\n",
    "\n",
    "Input : arr[] = {1, 2, 3, 4, 5} Output : 120 Example 2:\n",
    "\n",
    "Input : arr[] = {1, 6, 3} Output : 18"
   ]
  },
  {
   "cell_type": "code",
   "execution_count": 118,
   "id": "bcdd5111",
   "metadata": {},
   "outputs": [],
   "source": [
    "def product(arr):\n",
    "    if not arr: return 1\n",
    "    return arr[0]*product(arr[1:])"
   ]
  },
  {
   "cell_type": "code",
   "execution_count": 119,
   "id": "814cdf6d",
   "metadata": {},
   "outputs": [
    {
     "data": {
      "text/plain": [
       "120"
      ]
     },
     "execution_count": 119,
     "metadata": {},
     "output_type": "execute_result"
    }
   ],
   "source": [
    "arr = [1,2,3,4,5]\n",
    "product(arr)"
   ]
  },
  {
   "cell_type": "code",
   "execution_count": null,
   "id": "dca4aef6",
   "metadata": {},
   "outputs": [],
   "source": []
  }
 ],
 "metadata": {
  "kernelspec": {
   "display_name": "Python 3 (ipykernel)",
   "language": "python",
   "name": "python3"
  },
  "language_info": {
   "codemirror_mode": {
    "name": "ipython",
    "version": 3
   },
   "file_extension": ".py",
   "mimetype": "text/x-python",
   "name": "python",
   "nbconvert_exporter": "python",
   "pygments_lexer": "ipython3",
   "version": "3.9.7"
  }
 },
 "nbformat": 4,
 "nbformat_minor": 5
}
